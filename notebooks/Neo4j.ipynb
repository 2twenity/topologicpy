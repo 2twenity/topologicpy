{
 "cells": [
  {
   "cell_type": "markdown",
   "metadata": {},
   "source": [
    "# Example of how to use TopologicPy with Neo4J Graph Database"
   ]
  },
  {
   "cell_type": "markdown",
   "metadata": {},
   "source": [
    "### Step 1: Import the needed libraries"
   ]
  },
  {
   "cell_type": "code",
   "execution_count": 1,
   "metadata": {},
   "outputs": [],
   "source": [
    "# The following two lines are not needed on your computer\n",
    "import sys\n",
    "sys.path.append(r\"C:\\Users\\sarwj\\OneDrive - Cardiff University\\Documents\\GitHub\\topologicpy\\src\")\n"
   ]
  },
  {
   "cell_type": "code",
   "execution_count": 2,
   "metadata": {},
   "outputs": [],
   "source": [
    "from topologicpy.Neo4j import Neo4j\n",
    "from topologicpy.Topology import Topology\n",
    "from topologicpy.Graph import Graph\n",
    "from topologicpy.CellComplex import CellComplex\n",
    "from topologicpy.Dictionary import Dictionary\n",
    "from getpass import getpass\n"
   ]
  },
  {
   "cell_type": "markdown",
   "metadata": {},
   "source": [
    "### Step 2: Enter your credentials. Make sure you have your Neo4J DBMS running and that you know the URI, username, and password"
   ]
  },
  {
   "cell_type": "code",
   "execution_count": null,
   "metadata": {},
   "outputs": [],
   "source": [
    "print(\"Enter your credentials!\")\n",
    "default_url = \"bolt://localhost:7687\"\n",
    "url = input(f\"Enter the Neo4j DBMS URL (default: {default_url}): \") or default_url\n",
    "\n",
    "default_username = \"neo4j\"\n",
    "# Input username\n",
    "# Prompt the user for the username, allowing for a default\n",
    "username = input(f\"Enter your Neo4j username (default: {default_username}): \") or default_username\n",
    "\n",
    "# Input password (hidden)\n",
    "password = getpass(\"Enter your Neo4j password: \")\n",
    "print(\"Done. Move to next step\")"
   ]
  },
  {
   "cell_type": "markdown",
   "metadata": {},
   "source": [
    "### Step 3: Get the Neo4J Graph (in reality this is the driver, but we can think of it as the neo4j graph)"
   ]
  },
  {
   "cell_type": "code",
   "execution_count": null,
   "metadata": {},
   "outputs": [],
   "source": [
    "n_graph = Neo4j.ByParameters(url, username, password)\n",
    "print(n_graph)\n"
   ]
  },
  {
   "cell_type": "markdown",
   "metadata": {},
   "source": [
    "### Step 4: Reset the graph (Delete all existing nodes and edges. Be careful with this step if you need to keep your graph)"
   ]
  },
  {
   "cell_type": "code",
   "execution_count": null,
   "metadata": {},
   "outputs": [],
   "source": [
    "n_graph = Neo4j.Reset(n_graph)\n",
    "print(n_graph)"
   ]
  },
  {
   "cell_type": "markdown",
   "metadata": {},
   "source": [
    "### Step 5: Create a Topologic Graph"
   ]
  },
  {
   "cell_type": "code",
   "execution_count": null,
   "metadata": {},
   "outputs": [],
   "source": [
    "cc = CellComplex.Prism(width=30, length=20, height=20, uSides=3)\n",
    "cells = Topology.Cells(cc)\n",
    "for i, cell in enumerate(cells):\n",
    "    d = Dictionary.ByKeyValue(\"label\", \"Cell_\"+str(i+1))\n",
    "    cell = Topology.SetDictionary(cell, d)\n",
    "faces = Topology.Faces(cc)\n",
    "for i, face in enumerate(faces):\n",
    "    d = Dictionary.ByKeyValue(\"label\", \"Face_\"+str(i+1))\n",
    "    face = Topology.SetDictionary(face, d)\n",
    "\n",
    "t_graph = Graph.ByTopology(cc, direct=False, toExteriorTopologies=True, viaSharedTopologies=True)\n",
    "vertices = Graph.Vertices(t_graph)\n",
    "edges = Graph.Edges(t_graph)\n",
    "print(\"This graph has\", len(vertices), \"vertices and\", len(edges), \"edges.\")\n",
    "print(\"Vertex Dictionaries:\")\n",
    "for v in vertices:\n",
    "    d = Topology.Dictionary(v)\n",
    "    print(\" \", Dictionary.Keys(d), Dictionary.Values(d))\n",
    "print(\"Edge Dictionaries:\")\n",
    "for e in edges:\n",
    "    d = Topology.Dictionary(e)\n",
    "    print(\" \", Dictionary.Keys(d), Dictionary.Values(d))\n"
   ]
  },
  {
   "cell_type": "markdown",
   "metadata": {},
   "source": [
    "### Step 6: Convert the Topologic Graph to a Neo4J graph."
   ]
  },
  {
   "cell_type": "code",
   "execution_count": null,
   "metadata": {},
   "outputs": [],
   "source": [
    "n_graph = Neo4j.ByGraph(n_graph,\n",
    "                           t_graph,\n",
    "                           vertexLabelKey=\"label\",\n",
    "                           defaultVertexLabel=\"Untitled\",\n",
    "                           vertexCategoryKey=\"category\",\n",
    "                           defaultVertexCategory=None,\n",
    "                           edgeLabelKey=\"relationship\",\n",
    "                           defaultEdgeLabel=\"CONNECTED_TO\",\n",
    "                           edgeCategoryKey= \"category\",\n",
    "                           defaultEdgeCategory=None,\n",
    "                           mantissa=6,\n",
    "                           tolerance = 0.0001)\n",
    "print(n_graph)\n"
   ]
  },
  {
   "cell_type": "markdown",
   "metadata": {},
   "source": [
    "### Step 7: Convert the Neo4J graph to a Topologic Graph"
   ]
  },
  {
   "cell_type": "code",
   "execution_count": null,
   "metadata": {},
   "outputs": [],
   "source": [
    "t_graph = Neo4j.ExportToGraph(n_graph)\n",
    "Graph.Show(t_graph, vertexGroupKey=\"category\", vertexGroups=[0,1,3], vertexSize=12, vertexLabelKey=\"label\", edgeLabelKey=\"relationship\", colorScale=\"thermal_r\")\n",
    "vertices = Graph.Vertices(t_graph)\n",
    "for v in vertices:\n",
    "    d = Topology.Dictionary(v)\n",
    "    print(Dictionary.Keys(d), Dictionary.Values(d))"
   ]
  },
  {
   "cell_type": "markdown",
   "metadata": {},
   "source": [
    "### Step 8: Get ONLY the vertices and edges that match the cypher string"
   ]
  },
  {
   "cell_type": "code",
   "execution_count": null,
   "metadata": {},
   "outputs": [],
   "source": [
    "cypher=\"MATCH (a)-[r:To_Exterior_Topologies]->(b) RETURN a,r,b\"\n",
    "t_graph = Neo4j.ExportToGraph(n_graph, cypher=cypher)\n",
    "Graph.Show(t_graph, vertexGroupKey=\"category\", vertexGroups=[0,1,3], vertexSize=12, vertexLabelKey=\"label\", edgeLabelKey=\"relationship\")\n",
    "vertices = Graph.Vertices(t_graph)\n",
    "for v in vertices:\n",
    "    d = Topology.Dictionary(v)\n",
    "    print(Dictionary.Keys(d), Dictionary.Values(d))"
   ]
  },
  {
   "cell_type": "code",
   "execution_count": null,
   "metadata": {},
   "outputs": [],
   "source": [
    "cypher=\"MATCH (a)-[r:Via_Shared_Topologies]->(b) RETURN a,r,b\"\n",
    "t_graph = Neo4j.ExportToGraph(n_graph, cypher=cypher)\n",
    "Graph.Show(t_graph, vertexGroupKey=\"category\", vertexGroups=[0,1,2,3], vertexSize=12, vertexLabelKey=\"label\", edgeLabelKey=\"relationship\", colorScale=\"thermal_r\")\n",
    "vertices = Graph.Vertices(t_graph)\n",
    "for v in vertices:\n",
    "    d = Topology.Dictionary(v)\n",
    "    print(Dictionary.Keys(d), Dictionary.Values(d))"
   ]
  },
  {
   "cell_type": "markdown",
   "metadata": {},
   "source": [
    "### Step 9: Try another cypher query (only nodes, no edges)"
   ]
  },
  {
   "cell_type": "code",
   "execution_count": null,
   "metadata": {},
   "outputs": [],
   "source": [
    "cypher = \"MATCH (n) WHERE ANY(label IN labels(n) WHERE label STARTS WITH 'Cell') RETURN n\"\n",
    "t_graph = Neo4j.ExportToGraph(n_graph, cypher=cypher)\n",
    "vertices = Graph.Vertices(t_graph)\n",
    "for v in vertices:\n",
    "    d = Topology.Dictionary(v)\n",
    "    print(Dictionary.Keys(d), Dictionary.Values(d))\n",
    "Graph.Show(t_graph, vertexGroupKey=\"category\", vertexGroups=[0,1,3], vertexSize=12, vertexLabelKey=\"label\", edgeLabelKey=\"relationship\", , colorScale=\"thermal_r\")\n"
   ]
  }
 ],
 "metadata": {
  "kernelspec": {
   "display_name": "Python 3",
   "language": "python",
   "name": "python3"
  },
  "language_info": {
   "codemirror_mode": {
    "name": "ipython",
    "version": 3
   },
   "file_extension": ".py",
   "mimetype": "text/x-python",
   "name": "python",
   "nbconvert_exporter": "python",
   "pygments_lexer": "ipython3",
   "version": "3.11.9"
  }
 },
 "nbformat": 4,
 "nbformat_minor": 2
}
