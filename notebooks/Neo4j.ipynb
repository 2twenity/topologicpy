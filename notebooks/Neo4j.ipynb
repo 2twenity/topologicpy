{
 "cells": [
  {
   "cell_type": "markdown",
   "metadata": {},
   "source": [
    "# Example of how to use TopologicPy with Neo4J Graph Database"
   ]
  },
  {
   "cell_type": "markdown",
   "metadata": {},
   "source": [
    "### Step 1: Import the needed libraries"
   ]
  },
  {
   "cell_type": "code",
   "execution_count": 1,
   "metadata": {},
   "outputs": [],
   "source": [
    "# The following two lines are not needed on your computer\n",
    "import sys\n",
    "sys.path.append(r\"C:\\Users\\sarwj\\OneDrive - Cardiff University\\Documents\\GitHub\\topologicpy\\src\")\n"
   ]
  },
  {
   "cell_type": "code",
   "execution_count": 2,
   "metadata": {},
   "outputs": [],
   "source": [
    "from topologicpy.Neo4j import Neo4j\n",
    "from topologicpy.Topology import Topology\n",
    "from topologicpy.Graph import Graph\n",
    "from topologicpy.CellComplex import CellComplex\n",
    "from topologicpy.Dictionary import Dictionary\n",
    "from getpass import getpass\n"
   ]
  },
  {
   "cell_type": "markdown",
   "metadata": {},
   "source": [
    "### Step 2: Enter your credentials. Make sure you have your Neo4J DBMS running and that you know the URI, username, and password"
   ]
  },
  {
   "cell_type": "code",
   "execution_count": 3,
   "metadata": {},
   "outputs": [
    {
     "name": "stdout",
     "output_type": "stream",
     "text": [
      "Enter your credentials!\n",
      "Done. Move to next step\n"
     ]
    }
   ],
   "source": [
    "print(\"Enter your credentials!\")\n",
    "default_url = \"bolt://localhost:7687\"\n",
    "url = input(f\"Enter the Neo4j DBMS URL (default: {default_url}): \") or default_url\n",
    "\n",
    "default_username = \"neo4j\"\n",
    "# Input username\n",
    "# Prompt the user for the username, allowing for a default\n",
    "username = input(f\"Enter your Neo4j username (default: {default_username}): \") or default_username\n",
    "\n",
    "# Input password (hidden)\n",
    "password = getpass(\"Enter your Neo4j password: \")\n",
    "print(\"Done. Move to next step\")"
   ]
  },
  {
   "cell_type": "markdown",
   "metadata": {},
   "source": [
    "### Step 3: Get the Neo4J Graph (in reality this is the driver, but we can think of it as the neo4j graph)"
   ]
  },
  {
   "cell_type": "code",
   "execution_count": 4,
   "metadata": {},
   "outputs": [
    {
     "name": "stdout",
     "output_type": "stream",
     "text": [
      "<neo4j._sync.driver.BoltDriver object at 0x000001FACFBD0810>\n"
     ]
    }
   ],
   "source": [
    "n_graph = Neo4j.ByParameters(url, username, password)\n",
    "print(n_graph)\n"
   ]
  },
  {
   "cell_type": "markdown",
   "metadata": {},
   "source": [
    "### Step 4: Reset the graph (Delete all existing nodes and edges. Be careful with this step if you need to keep your graph)"
   ]
  },
  {
   "cell_type": "code",
   "execution_count": 5,
   "metadata": {},
   "outputs": [
    {
     "name": "stdout",
     "output_type": "stream",
     "text": [
      "<neo4j._sync.driver.BoltDriver object at 0x000001FACFBD0810>\n"
     ]
    }
   ],
   "source": [
    "n_graph = Neo4j.Reset(n_graph)\n",
    "print(n_graph)"
   ]
  },
  {
   "cell_type": "markdown",
   "metadata": {},
   "source": [
    "### Step 5: Create a Topologic Graph"
   ]
  },
  {
   "cell_type": "code",
   "execution_count": 6,
   "metadata": {},
   "outputs": [
    {
     "name": "stdout",
     "output_type": "stream",
     "text": [
      "This graph has 64 vertices and 72 edges.\n",
      "Vertex Dictionaries:\n",
      "  ['category', 'label'] [1, 'Face_38']\n",
      "  ['category', 'label'] [3, 'Face_35']\n",
      "  ['category', 'label'] [3, 'Face_36']\n",
      "  ['category', 'label'] [3, 'Face_40']\n",
      "  ['category', 'label'] [3, 'Face_39']\n",
      "  ['category', 'label'] [3, 'Face_41']\n",
      "  ['category', 'label'] [1, 'Face_42']\n",
      "  ['category', 'label'] [3, 'Face_43']\n",
      "  ['category', 'label'] [1, 'Face_45']\n",
      "  ['category', 'label'] [3, 'Face_44']\n",
      "  ['category', 'label'] [1, 'Face_48']\n",
      "  ['category', 'label'] [3, 'Face_46']\n",
      "  ['category', 'label'] [3, 'Face_47']\n",
      "  ['category', 'label'] [3, 'Face_8']\n",
      "  ['category', 'label'] [3, 'Face_7']\n",
      "  ['category', 'label'] [3, 'Face_9']\n",
      "  ['category', 'label'] [1, 'Face_11']\n",
      "  ['category', 'label'] [1, 'Face_6']\n",
      "  ['category', 'label'] [1, 'Face_4']\n",
      "  ['category', 'label'] [3, 'Face_1']\n",
      "  ['category', 'label'] [1, 'Face_3']\n",
      "  ['category', 'label'] [3, 'Face_2']\n",
      "  ['category', 'label'] [3, 'Face_5']\n",
      "  ['category', 'label'] [1, 'Face_10']\n",
      "  ['category', 'label'] [3, 'Face_12']\n",
      "  ['category', 'label'] [3, 'Face_15']\n",
      "  ['category', 'label'] [1, 'Face_20']\n",
      "  ['category', 'label'] [1, 'Face_21']\n",
      "  ['category', 'label'] [3, 'Face_18']\n",
      "  ['category', 'label'] [3, 'Face_17']\n",
      "  ['category', 'label'] [3, 'Face_19']\n",
      "  ['category', 'label'] [1, 'Face_16']\n",
      "  ['category', 'label'] [1, 'Face_14']\n",
      "  ['category', 'label'] [1, 'Face_13']\n",
      "  ['category', 'label'] [1, 'Face_37']\n",
      "  ['category', 'label'] [1, 'Face_25']\n",
      "  ['category', 'label'] [1, 'Face_24']\n",
      "  ['category', 'label'] [3, 'Face_23']\n",
      "  ['category', 'label'] [3, 'Face_22']\n",
      "  ['category', 'label'] [1, 'Face_28']\n",
      "  ['category', 'label'] [3, 'Face_26']\n",
      "  ['category', 'label'] [3, 'Face_27']\n",
      "  ['category', 'label'] [3, 'Face_29']\n",
      "  ['category', 'label'] [1, 'Face_34']\n",
      "  ['category', 'label'] [1, 'Face_31']\n",
      "  ['category', 'label'] [3, 'Face_30']\n",
      "  ['category', 'label'] [3, 'Face_33']\n",
      "  ['category', 'label'] [3, 'Face_32']\n",
      "  ['category', 'label'] [0, 'Cell_12']\n",
      "  ['category', 'label'] [0, 'Cell_11']\n",
      "  ['category', 'label'] [3, 'Face_49']\n",
      "  ['category', 'label'] [3, 'Face_50']\n",
      "  ['category', 'label'] [0, 'Cell_1']\n",
      "  ['category', 'label'] [3, 'Face_51']\n",
      "  ['category', 'label'] [3, 'Face_52']\n",
      "  ['category', 'label'] [0, 'Cell_2']\n",
      "  ['category', 'label'] [0, 'Cell_3']\n",
      "  ['category', 'label'] [0, 'Cell_4']\n",
      "  ['category', 'label'] [0, 'Cell_5']\n",
      "  ['category', 'label'] [0, 'Cell_6']\n",
      "  ['category', 'label'] [0, 'Cell_7']\n",
      "  ['category', 'label'] [0, 'Cell_8']\n",
      "  ['category', 'label'] [0, 'Cell_10']\n",
      "  ['category', 'label'] [0, 'Cell_9']\n",
      "Edge Dictionaries:\n",
      "  ['relationship'] ['Via_Shared_Topologies']\n",
      "  ['relationship'] ['Via_Shared_Topologies']\n",
      "  ['relationship'] ['To_Exterior_Topologies']\n",
      "  ['relationship'] ['To_Exterior_Topologies']\n",
      "  ['relationship'] ['To_Exterior_Topologies']\n",
      "  ['relationship'] ['To_Exterior_Topologies']\n",
      "  ['relationship'] ['To_Exterior_Topologies']\n",
      "  ['relationship'] ['Via_Shared_Topologies']\n",
      "  ['relationship'] ['Via_Shared_Topologies']\n",
      "  ['relationship'] ['To_Exterior_Topologies']\n",
      "  ['relationship'] ['Via_Shared_Topologies']\n",
      "  ['relationship'] ['Via_Shared_Topologies']\n",
      "  ['relationship'] ['To_Exterior_Topologies']\n",
      "  ['relationship'] ['Via_Shared_Topologies']\n",
      "  ['relationship'] ['Via_Shared_Topologies']\n",
      "  ['relationship'] ['To_Exterior_Topologies']\n",
      "  ['relationship'] ['To_Exterior_Topologies']\n",
      "  ['relationship'] ['To_Exterior_Topologies']\n",
      "  ['relationship'] ['To_Exterior_Topologies']\n",
      "  ['relationship'] ['To_Exterior_Topologies']\n",
      "  ['relationship'] ['Via_Shared_Topologies']\n",
      "  ['relationship'] ['Via_Shared_Topologies']\n",
      "  ['relationship'] ['Via_Shared_Topologies']\n",
      "  ['relationship'] ['Via_Shared_Topologies']\n",
      "  ['relationship'] ['Via_Shared_Topologies']\n",
      "  ['relationship'] ['Via_Shared_Topologies']\n",
      "  ['relationship'] ['To_Exterior_Topologies']\n",
      "  ['relationship'] ['Via_Shared_Topologies']\n",
      "  ['relationship'] ['Via_Shared_Topologies']\n",
      "  ['relationship'] ['To_Exterior_Topologies']\n",
      "  ['relationship'] ['To_Exterior_Topologies']\n",
      "  ['relationship'] ['Via_Shared_Topologies']\n",
      "  ['relationship'] ['Via_Shared_Topologies']\n",
      "  ['relationship'] ['To_Exterior_Topologies']\n",
      "  ['relationship'] ['To_Exterior_Topologies']\n",
      "  ['relationship'] ['Via_Shared_Topologies']\n",
      "  ['relationship'] ['Via_Shared_Topologies']\n",
      "  ['relationship'] ['Via_Shared_Topologies']\n",
      "  ['relationship'] ['Via_Shared_Topologies']\n",
      "  ['relationship'] ['To_Exterior_Topologies']\n",
      "  ['relationship'] ['To_Exterior_Topologies']\n",
      "  ['relationship'] ['To_Exterior_Topologies']\n",
      "  ['relationship'] ['Via_Shared_Topologies']\n",
      "  ['relationship'] ['Via_Shared_Topologies']\n",
      "  ['relationship'] ['Via_Shared_Topologies']\n",
      "  ['relationship'] ['Via_Shared_Topologies']\n",
      "  ['relationship'] ['Via_Shared_Topologies']\n",
      "  ['relationship'] ['Via_Shared_Topologies']\n",
      "  ['relationship'] ['Via_Shared_Topologies']\n",
      "  ['relationship'] ['Via_Shared_Topologies']\n",
      "  ['relationship'] ['Via_Shared_Topologies']\n",
      "  ['relationship'] ['Via_Shared_Topologies']\n",
      "  ['relationship'] ['Via_Shared_Topologies']\n",
      "  ['relationship'] ['Via_Shared_Topologies']\n",
      "  ['relationship'] ['To_Exterior_Topologies']\n",
      "  ['relationship'] ['To_Exterior_Topologies']\n",
      "  ['relationship'] ['Via_Shared_Topologies']\n",
      "  ['relationship'] ['Via_Shared_Topologies']\n",
      "  ['relationship'] ['To_Exterior_Topologies']\n",
      "  ['relationship'] ['To_Exterior_Topologies']\n",
      "  ['relationship'] ['To_Exterior_Topologies']\n",
      "  ['relationship'] ['Via_Shared_Topologies']\n",
      "  ['relationship'] ['Via_Shared_Topologies']\n",
      "  ['relationship'] ['Via_Shared_Topologies']\n",
      "  ['relationship'] ['Via_Shared_Topologies']\n",
      "  ['relationship'] ['To_Exterior_Topologies']\n",
      "  ['relationship'] ['To_Exterior_Topologies']\n",
      "  ['relationship'] ['To_Exterior_Topologies']\n",
      "  ['relationship'] ['To_Exterior_Topologies']\n",
      "  ['relationship'] ['To_Exterior_Topologies']\n",
      "  ['relationship'] ['To_Exterior_Topologies']\n",
      "  ['relationship'] ['To_Exterior_Topologies']\n"
     ]
    }
   ],
   "source": [
    "cc = CellComplex.Prism(width=30, length=20, height=20, uSides=3)\n",
    "cells = Topology.Cells(cc)\n",
    "for i, cell in enumerate(cells):\n",
    "    d = Dictionary.ByKeyValue(\"label\", \"Cell_\"+str(i+1))\n",
    "    cell = Topology.SetDictionary(cell, d)\n",
    "faces = Topology.Faces(cc)\n",
    "for i, face in enumerate(faces):\n",
    "    d = Dictionary.ByKeyValue(\"label\", \"Face_\"+str(i+1))\n",
    "    face = Topology.SetDictionary(face, d)\n",
    "\n",
    "t_graph = Graph.ByTopology(cc, direct=False, toExteriorTopologies=True, viaSharedTopologies=True)\n",
    "vertices = Graph.Vertices(t_graph)\n",
    "edges = Graph.Edges(t_graph)\n",
    "print(\"This graph has\", len(vertices), \"vertices and\", len(edges), \"edges.\")\n",
    "print(\"Vertex Dictionaries:\")\n",
    "for v in vertices:\n",
    "    d = Topology.Dictionary(v)\n",
    "    print(\" \", Dictionary.Keys(d), Dictionary.Values(d))\n",
    "print(\"Edge Dictionaries:\")\n",
    "for e in edges:\n",
    "    d = Topology.Dictionary(e)\n",
    "    print(\" \", Dictionary.Keys(d), Dictionary.Values(d))\n"
   ]
  },
  {
   "cell_type": "markdown",
   "metadata": {},
   "source": [
    "### Step 6: Convert the Topologic Graph to a Neo4J graph."
   ]
  },
  {
   "cell_type": "code",
   "execution_count": 7,
   "metadata": {},
   "outputs": [
    {
     "name": "stdout",
     "output_type": "stream",
     "text": [
      "<neo4j._sync.driver.BoltDriver object at 0x000001FACFBD0810>\n"
     ]
    }
   ],
   "source": [
    "n_graph = Neo4j.ByGraph(n_graph,\n",
    "                           t_graph,\n",
    "                           vertexLabelKey=\"label\",\n",
    "                           defaultVertexLabel=\"Untitled\",\n",
    "                           vertexCategoryKey=\"category\",\n",
    "                           defaultVertexCategory=None,\n",
    "                           edgeLabelKey=\"relationship\",\n",
    "                           defaultEdgeLabel=\"CONNECTED_TO\",\n",
    "                           edgeCategoryKey= \"category\",\n",
    "                           defaultEdgeCategory=None,\n",
    "                           mantissa=6,\n",
    "                           tolerance = 0.0001)\n",
    "print(n_graph)\n"
   ]
  },
  {
   "cell_type": "markdown",
   "metadata": {},
   "source": [
    "### Step 7: Convert the Neo4J graph to a Topologic Graph"
   ]
  },
  {
   "cell_type": "code",
   "execution_count": 8,
   "metadata": {},
   "outputs": [
    {
     "data": {
      "application/vnd.plotly.v1+json": {
       "config": {
        "plotlyServerURL": "https://plot.ly"
       },
       "data": [
        {
         "hoverinfo": "text",
         "legendgroup": "4",
         "legendrank": 4,
         "marker": {
          "cmax": 1,
          "cmin": 0,
          "color": [
           0.6666666666666666,
           0.6666666666666666,
           0.6666666666666666,
           0.3333333333333333,
           0.6666666666666666,
           0.3333333333333333,
           0.6666666666666666,
           0.6666666666666666,
           0.6666666666666666,
           0.6666666666666666,
           0.6666666666666666,
           0.6666666666666666,
           0.3333333333333333,
           0.3333333333333333,
           0.3333333333333333,
           0.3333333333333333,
           0.6666666666666666,
           0.3333333333333333,
           0.3333333333333333,
           0.6666666666666666,
           0.6666666666666666,
           0.6666666666666666,
           0.6666666666666666,
           0.3333333333333333,
           0.6666666666666666,
           0.3333333333333333,
           0.6666666666666666,
           0,
           0,
           0.6666666666666666,
           0.3333333333333333,
           0.3333333333333333,
           0,
           0.3333333333333333,
           0,
           0.6666666666666666,
           0.3333333333333333,
           0.6666666666666666,
           0.3333333333333333,
           0.3333333333333333,
           0.6666666666666666,
           0,
           0,
           0,
           0.6666666666666666,
           0.6666666666666666,
           0.3333333333333333,
           0.6666666666666666,
           0.6666666666666666,
           0.6666666666666666,
           0.3333333333333333,
           0,
           0,
           0.6666666666666666,
           0,
           0.6666666666666666,
           0.3333333333333333,
           0.6666666666666666,
           0.6666666666666666,
           0.6666666666666666,
           0,
           0,
           0.6666666666666666,
           0.3333333333333333
          ],
          "colorscale": [
           [
            0,
            "rgb(231, 250, 90)"
           ],
           [
            0.09090909090909091,
            "rgb(246, 211, 70)"
           ],
           [
            0.18181818181818182,
            "rgb(251, 173, 60)"
           ],
           [
            0.2727272727272727,
            "rgb(246, 139, 69)"
           ],
           [
            0.36363636363636365,
            "rgb(225, 113, 97)"
           ],
           [
            0.45454545454545453,
            "rgb(193, 100, 121)"
           ],
           [
            0.5454545454545454,
            "rgb(158, 89, 135)"
           ],
           [
            0.6363636363636364,
            "rgb(126, 77, 143)"
           ],
           [
            0.7272727272727273,
            "rgb(93, 62, 153)"
           ],
           [
            0.8181818181818182,
            "rgb(53, 50, 155)"
           ],
           [
            0.9090909090909091,
            "rgb(13, 48, 100)"
           ],
           [
            1,
            "rgb(3, 35, 51)"
           ]
          ],
          "line": {
           "color": "black",
           "width": 0.5
          },
          "size": 12,
          "symbol": "circle"
         },
         "mode": "markers",
         "name": "Graph Vertices",
         "showlegend": false,
         "text": [
          "Face_36",
          "Face_40",
          "Face_39",
          "Face_42",
          "Face_43",
          "Face_45",
          "Face_44",
          "Face_35",
          "Face_46",
          "Face_47",
          "Face_7",
          "Face_9",
          "Face_11",
          "Face_6",
          "Face_4",
          "Face_3",
          "Face_41",
          "Face_48",
          "Face_38",
          "Face_1",
          "Face_8",
          "Face_2",
          "Face_5",
          "Face_10",
          "Face_22",
          "Face_20",
          "Face_30",
          "Cell_1",
          "Cell_10",
          "Face_19",
          "Face_25",
          "Face_28",
          "Cell_9",
          "Face_24",
          "Cell_12",
          "Face_12",
          "Face_37",
          "Face_27",
          "Face_34",
          "Face_14",
          "Face_50",
          "Cell_6",
          "Cell_5",
          "Cell_11",
          "Face_17",
          "Face_18",
          "Face_21",
          "Face_29",
          "Face_51",
          "Face_15",
          "Face_13",
          "Cell_3",
          "Cell_4",
          "Face_32",
          "Cell_2",
          "Face_26",
          "Face_16",
          "Face_49",
          "Face_52",
          "Face_33",
          "Cell_7",
          "Cell_8",
          "Face_23",
          "Face_31"
         ],
         "type": "scatter3d",
         "x": [
          0,
          10,
          10,
          10,
          0,
          5,
          0,
          0,
          10,
          10,
          -10,
          -10,
          -10,
          -10,
          -5,
          -10,
          15,
          10,
          5,
          -10,
          -15,
          -15,
          -10,
          -5,
          0,
          -10,
          10,
          -10,
          0,
          -10,
          0,
          -5,
          10,
          5,
          10,
          0,
          0,
          -15,
          10,
          5,
          10,
          -10,
          0,
          10,
          -15,
          -10,
          -5,
          -10,
          10,
          0,
          0,
          0,
          -10,
          15,
          -10,
          -10,
          0,
          15,
          15,
          10,
          10,
          0,
          0,
          10
         ],
         "y": [
          10,
          -10,
          -5,
          -5,
          -10,
          -5,
          -5,
          5,
          5,
          10,
          -5,
          -10,
          -5,
          5,
          5,
          0,
          -5,
          0,
          5,
          5,
          -5,
          5,
          10,
          -5,
          -5,
          0,
          5,
          5,
          -5,
          5,
          -5,
          -5,
          -5,
          -5,
          -5,
          5,
          0,
          -5,
          5,
          5,
          -10,
          -5,
          -5,
          5,
          5,
          10,
          5,
          -5,
          -5,
          10,
          0,
          5,
          5,
          5,
          -5,
          -10,
          5,
          5,
          -5,
          10,
          5,
          5,
          -10,
          0
         ],
         "z": [
          5,
          -5,
          -10,
          0,
          5,
          5,
          10,
          10,
          10,
          5,
          -10,
          -5,
          0,
          0,
          -5,
          -5,
          -5,
          5,
          5,
          -10,
          -5,
          -5,
          -5,
          -5,
          -10,
          5,
          -10,
          -5,
          5,
          10,
          0,
          5,
          -5,
          -5,
          5,
          -10,
          5,
          5,
          0,
          -5,
          5,
          5,
          -5,
          5,
          5,
          5,
          5,
          10,
          10,
          -5,
          -5,
          -5,
          5,
          -5,
          -5,
          5,
          0,
          5,
          5,
          -5,
          -5,
          5,
          -5,
          -5
         ]
        },
        {
         "hoverinfo": "text",
         "legendgroup": "5",
         "legendrank": 5,
         "line": {
          "color": "black",
          "width": 1
         },
         "mode": "lines",
         "name": "Graph Edges",
         "showlegend": false,
         "text": [
          "To_Exterior_Topologies",
          "To_Exterior_Topologies",
          "To_Exterior_Topologies",
          "Via_Shared_Topologies",
          "Via_Shared_Topologies",
          "To_Exterior_Topologies",
          "Via_Shared_Topologies",
          "Via_Shared_Topologies",
          "To_Exterior_Topologies",
          "To_Exterior_Topologies",
          "To_Exterior_Topologies",
          "To_Exterior_Topologies",
          "To_Exterior_Topologies",
          "To_Exterior_Topologies",
          "Via_Shared_Topologies",
          "Via_Shared_Topologies",
          "Via_Shared_Topologies",
          "Via_Shared_Topologies",
          "Via_Shared_Topologies",
          "Via_Shared_Topologies",
          "Via_Shared_Topologies",
          "Via_Shared_Topologies",
          "To_Exterior_Topologies",
          "Via_Shared_Topologies",
          "Via_Shared_Topologies",
          "Via_Shared_Topologies",
          "Via_Shared_Topologies",
          "To_Exterior_Topologies",
          "To_Exterior_Topologies",
          "To_Exterior_Topologies",
          "To_Exterior_Topologies",
          "Via_Shared_Topologies",
          "Via_Shared_Topologies",
          "To_Exterior_Topologies",
          "Via_Shared_Topologies",
          "Via_Shared_Topologies",
          "To_Exterior_Topologies",
          "Via_Shared_Topologies",
          "Via_Shared_Topologies",
          "Via_Shared_Topologies",
          "To_Exterior_Topologies",
          "Via_Shared_Topologies",
          "Via_Shared_Topologies",
          "Via_Shared_Topologies",
          "Via_Shared_Topologies",
          "Via_Shared_Topologies",
          "To_Exterior_Topologies",
          "To_Exterior_Topologies",
          "To_Exterior_Topologies",
          "To_Exterior_Topologies",
          "Via_Shared_Topologies",
          "To_Exterior_Topologies",
          "Via_Shared_Topologies",
          "Via_Shared_Topologies",
          "Via_Shared_Topologies",
          "Via_Shared_Topologies",
          "To_Exterior_Topologies",
          "To_Exterior_Topologies",
          "Via_Shared_Topologies",
          "To_Exterior_Topologies",
          "To_Exterior_Topologies",
          "To_Exterior_Topologies",
          "To_Exterior_Topologies",
          "Via_Shared_Topologies",
          "Via_Shared_Topologies",
          "To_Exterior_Topologies",
          "Via_Shared_Topologies",
          "Via_Shared_Topologies",
          "To_Exterior_Topologies",
          "Via_Shared_Topologies",
          "To_Exterior_Topologies",
          "Via_Shared_Topologies"
         ],
         "type": "scatter3d",
         "x": [
          0,
          0,
          null,
          10,
          10,
          null,
          10,
          10,
          null,
          10,
          10,
          null,
          10,
          10,
          null,
          0,
          0,
          null,
          0,
          5,
          null,
          10,
          5,
          null,
          0,
          0,
          null,
          0,
          0,
          null,
          10,
          10,
          null,
          10,
          10,
          null,
          -10,
          -10,
          null,
          -10,
          -10,
          null,
          -10,
          -10,
          null,
          -10,
          -10,
          null,
          -10,
          -10,
          null,
          -10,
          -10,
          null,
          0,
          -5,
          null,
          -10,
          -5,
          null,
          -10,
          -10,
          null,
          -10,
          -10,
          null,
          10,
          15,
          null,
          10,
          10,
          null,
          10,
          10,
          null,
          10,
          5,
          null,
          0,
          5,
          null,
          -10,
          -10,
          null,
          -10,
          -15,
          null,
          -10,
          -15,
          null,
          -10,
          -10,
          null,
          0,
          -5,
          null,
          -10,
          -5,
          null,
          0,
          0,
          null,
          -10,
          -10,
          null,
          -10,
          -10,
          null,
          10,
          10,
          null,
          0,
          -5,
          null,
          0,
          0,
          null,
          0,
          0,
          null,
          -10,
          -10,
          null,
          0,
          0,
          null,
          -10,
          -5,
          null,
          10,
          5,
          null,
          10,
          10,
          null,
          0,
          5,
          null,
          10,
          10,
          null,
          10,
          15,
          null,
          10,
          10,
          null,
          0,
          0,
          null,
          0,
          0,
          null,
          -10,
          -15,
          null,
          10,
          10,
          null,
          10,
          10,
          null,
          0,
          5,
          null,
          10,
          5,
          null,
          -10,
          -10,
          null,
          -10,
          -10,
          null,
          0,
          0,
          null,
          0,
          0,
          null,
          10,
          15,
          null,
          -10,
          -15,
          null,
          -10,
          -10,
          null,
          0,
          -5,
          null,
          -10,
          -5,
          null,
          0,
          0,
          null,
          0,
          0,
          null,
          0,
          0,
          null,
          10,
          15,
          null,
          0,
          0,
          null,
          10,
          10,
          null,
          10,
          10,
          null
         ],
         "y": [
          5,
          10,
          null,
          -5,
          -10,
          null,
          -5,
          -5,
          null,
          -5,
          -5,
          null,
          -5,
          -5,
          null,
          -5,
          -10,
          null,
          -5,
          -5,
          null,
          -5,
          -5,
          null,
          -5,
          -5,
          null,
          5,
          5,
          null,
          5,
          5,
          null,
          5,
          10,
          null,
          -5,
          -5,
          null,
          -5,
          -10,
          null,
          -5,
          -5,
          null,
          -5,
          -5,
          null,
          5,
          5,
          null,
          5,
          5,
          null,
          5,
          5,
          null,
          5,
          5,
          null,
          5,
          0,
          null,
          -5,
          0,
          null,
          -5,
          -5,
          null,
          5,
          0,
          null,
          -5,
          0,
          null,
          5,
          5,
          null,
          5,
          5,
          null,
          5,
          5,
          null,
          -5,
          -5,
          null,
          5,
          5,
          null,
          5,
          10,
          null,
          -5,
          -5,
          null,
          -5,
          -5,
          null,
          -5,
          -5,
          null,
          5,
          0,
          null,
          -5,
          0,
          null,
          5,
          5,
          null,
          -5,
          -5,
          null,
          -5,
          -5,
          null,
          -5,
          0,
          null,
          5,
          5,
          null,
          -5,
          -5,
          null,
          -5,
          -5,
          null,
          -5,
          -5,
          null,
          -5,
          0,
          null,
          -5,
          -5,
          null,
          -5,
          -10,
          null,
          -5,
          -5,
          null,
          -5,
          -5,
          null,
          5,
          5,
          null,
          5,
          0,
          null,
          -5,
          -5,
          null,
          5,
          5,
          null,
          5,
          5,
          null,
          5,
          5,
          null,
          5,
          5,
          null,
          -5,
          -10,
          null,
          -5,
          -5,
          null,
          -5,
          0,
          null,
          -5,
          -10,
          null,
          5,
          5,
          null,
          5,
          5,
          null,
          5,
          10,
          null,
          5,
          5,
          null,
          5,
          5,
          null,
          5,
          10,
          null,
          5,
          0,
          null,
          5,
          5,
          null,
          5,
          5,
          null,
          5,
          5,
          null,
          5,
          10,
          null,
          5,
          0,
          null
         ],
         "z": [
          5,
          5,
          null,
          -5,
          -5,
          null,
          -5,
          -10,
          null,
          -5,
          0,
          null,
          5,
          0,
          null,
          5,
          5,
          null,
          5,
          5,
          null,
          5,
          5,
          null,
          5,
          10,
          null,
          5,
          10,
          null,
          5,
          10,
          null,
          5,
          5,
          null,
          -5,
          -10,
          null,
          -5,
          -5,
          null,
          5,
          0,
          null,
          -5,
          0,
          null,
          -5,
          0,
          null,
          5,
          0,
          null,
          -5,
          -5,
          null,
          -5,
          -5,
          null,
          -5,
          -5,
          null,
          -5,
          -5,
          null,
          -5,
          -5,
          null,
          5,
          5,
          null,
          5,
          5,
          null,
          5,
          5,
          null,
          5,
          5,
          null,
          -5,
          -10,
          null,
          -5,
          -5,
          null,
          -5,
          -5,
          null,
          -5,
          -5,
          null,
          -5,
          -5,
          null,
          -5,
          -5,
          null,
          -5,
          -10,
          null,
          5,
          5,
          null,
          5,
          5,
          null,
          -5,
          -10,
          null,
          5,
          5,
          null,
          5,
          0,
          null,
          5,
          5,
          null,
          5,
          10,
          null,
          -5,
          0,
          null,
          5,
          5,
          null,
          -5,
          -5,
          null,
          -5,
          -5,
          null,
          -5,
          -5,
          null,
          5,
          5,
          null,
          5,
          5,
          null,
          5,
          10,
          null,
          -5,
          -10,
          null,
          5,
          5,
          null,
          5,
          5,
          null,
          5,
          0,
          null,
          -5,
          0,
          null,
          -5,
          -5,
          null,
          -5,
          -5,
          null,
          5,
          5,
          null,
          5,
          10,
          null,
          -5,
          -5,
          null,
          -5,
          -5,
          null,
          5,
          5,
          null,
          5,
          5,
          null,
          5,
          5,
          null,
          5,
          5,
          null,
          5,
          5,
          null,
          -5,
          -5,
          null,
          -5,
          -5,
          null,
          -5,
          0,
          null,
          -5,
          -5,
          null,
          5,
          0,
          null,
          -5,
          -5,
          null,
          -5,
          -5,
          null
         ]
        }
       ],
       "layout": {
        "autosize": true,
        "height": 500,
        "margin": {
         "b": 40,
         "l": 40,
         "r": 40,
         "t": 40
        },
        "paper_bgcolor": "rgba(0,0,0,0)",
        "plot_bgcolor": "rgba(0,0,0,0)",
        "scene": {
         "aspectmode": "data",
         "camera": {
          "center": {
           "x": 0,
           "y": 0,
           "z": 0
          },
          "eye": {
           "x": -1.25,
           "y": -1.25,
           "z": 1.25
          },
          "projection": {
           "type": "perspective"
          },
          "up": {
           "x": 0,
           "y": 0,
           "z": 1
          }
         },
         "xaxis": {
          "visible": false
         },
         "yaxis": {
          "visible": false
         },
         "zaxis": {
          "visible": false
         }
        },
        "showlegend": true,
        "template": {
         "data": {
          "bar": [
           {
            "error_x": {
             "color": "#2a3f5f"
            },
            "error_y": {
             "color": "#2a3f5f"
            },
            "marker": {
             "line": {
              "color": "#E5ECF6",
              "width": 0.5
             },
             "pattern": {
              "fillmode": "overlay",
              "size": 10,
              "solidity": 0.2
             }
            },
            "type": "bar"
           }
          ],
          "barpolar": [
           {
            "marker": {
             "line": {
              "color": "#E5ECF6",
              "width": 0.5
             },
             "pattern": {
              "fillmode": "overlay",
              "size": 10,
              "solidity": 0.2
             }
            },
            "type": "barpolar"
           }
          ],
          "carpet": [
           {
            "aaxis": {
             "endlinecolor": "#2a3f5f",
             "gridcolor": "white",
             "linecolor": "white",
             "minorgridcolor": "white",
             "startlinecolor": "#2a3f5f"
            },
            "baxis": {
             "endlinecolor": "#2a3f5f",
             "gridcolor": "white",
             "linecolor": "white",
             "minorgridcolor": "white",
             "startlinecolor": "#2a3f5f"
            },
            "type": "carpet"
           }
          ],
          "choropleth": [
           {
            "colorbar": {
             "outlinewidth": 0,
             "ticks": ""
            },
            "type": "choropleth"
           }
          ],
          "contour": [
           {
            "colorbar": {
             "outlinewidth": 0,
             "ticks": ""
            },
            "colorscale": [
             [
              0,
              "#0d0887"
             ],
             [
              0.1111111111111111,
              "#46039f"
             ],
             [
              0.2222222222222222,
              "#7201a8"
             ],
             [
              0.3333333333333333,
              "#9c179e"
             ],
             [
              0.4444444444444444,
              "#bd3786"
             ],
             [
              0.5555555555555556,
              "#d8576b"
             ],
             [
              0.6666666666666666,
              "#ed7953"
             ],
             [
              0.7777777777777778,
              "#fb9f3a"
             ],
             [
              0.8888888888888888,
              "#fdca26"
             ],
             [
              1,
              "#f0f921"
             ]
            ],
            "type": "contour"
           }
          ],
          "contourcarpet": [
           {
            "colorbar": {
             "outlinewidth": 0,
             "ticks": ""
            },
            "type": "contourcarpet"
           }
          ],
          "heatmap": [
           {
            "colorbar": {
             "outlinewidth": 0,
             "ticks": ""
            },
            "colorscale": [
             [
              0,
              "#0d0887"
             ],
             [
              0.1111111111111111,
              "#46039f"
             ],
             [
              0.2222222222222222,
              "#7201a8"
             ],
             [
              0.3333333333333333,
              "#9c179e"
             ],
             [
              0.4444444444444444,
              "#bd3786"
             ],
             [
              0.5555555555555556,
              "#d8576b"
             ],
             [
              0.6666666666666666,
              "#ed7953"
             ],
             [
              0.7777777777777778,
              "#fb9f3a"
             ],
             [
              0.8888888888888888,
              "#fdca26"
             ],
             [
              1,
              "#f0f921"
             ]
            ],
            "type": "heatmap"
           }
          ],
          "heatmapgl": [
           {
            "colorbar": {
             "outlinewidth": 0,
             "ticks": ""
            },
            "colorscale": [
             [
              0,
              "#0d0887"
             ],
             [
              0.1111111111111111,
              "#46039f"
             ],
             [
              0.2222222222222222,
              "#7201a8"
             ],
             [
              0.3333333333333333,
              "#9c179e"
             ],
             [
              0.4444444444444444,
              "#bd3786"
             ],
             [
              0.5555555555555556,
              "#d8576b"
             ],
             [
              0.6666666666666666,
              "#ed7953"
             ],
             [
              0.7777777777777778,
              "#fb9f3a"
             ],
             [
              0.8888888888888888,
              "#fdca26"
             ],
             [
              1,
              "#f0f921"
             ]
            ],
            "type": "heatmapgl"
           }
          ],
          "histogram": [
           {
            "marker": {
             "pattern": {
              "fillmode": "overlay",
              "size": 10,
              "solidity": 0.2
             }
            },
            "type": "histogram"
           }
          ],
          "histogram2d": [
           {
            "colorbar": {
             "outlinewidth": 0,
             "ticks": ""
            },
            "colorscale": [
             [
              0,
              "#0d0887"
             ],
             [
              0.1111111111111111,
              "#46039f"
             ],
             [
              0.2222222222222222,
              "#7201a8"
             ],
             [
              0.3333333333333333,
              "#9c179e"
             ],
             [
              0.4444444444444444,
              "#bd3786"
             ],
             [
              0.5555555555555556,
              "#d8576b"
             ],
             [
              0.6666666666666666,
              "#ed7953"
             ],
             [
              0.7777777777777778,
              "#fb9f3a"
             ],
             [
              0.8888888888888888,
              "#fdca26"
             ],
             [
              1,
              "#f0f921"
             ]
            ],
            "type": "histogram2d"
           }
          ],
          "histogram2dcontour": [
           {
            "colorbar": {
             "outlinewidth": 0,
             "ticks": ""
            },
            "colorscale": [
             [
              0,
              "#0d0887"
             ],
             [
              0.1111111111111111,
              "#46039f"
             ],
             [
              0.2222222222222222,
              "#7201a8"
             ],
             [
              0.3333333333333333,
              "#9c179e"
             ],
             [
              0.4444444444444444,
              "#bd3786"
             ],
             [
              0.5555555555555556,
              "#d8576b"
             ],
             [
              0.6666666666666666,
              "#ed7953"
             ],
             [
              0.7777777777777778,
              "#fb9f3a"
             ],
             [
              0.8888888888888888,
              "#fdca26"
             ],
             [
              1,
              "#f0f921"
             ]
            ],
            "type": "histogram2dcontour"
           }
          ],
          "mesh3d": [
           {
            "colorbar": {
             "outlinewidth": 0,
             "ticks": ""
            },
            "type": "mesh3d"
           }
          ],
          "parcoords": [
           {
            "line": {
             "colorbar": {
              "outlinewidth": 0,
              "ticks": ""
             }
            },
            "type": "parcoords"
           }
          ],
          "pie": [
           {
            "automargin": true,
            "type": "pie"
           }
          ],
          "scatter": [
           {
            "fillpattern": {
             "fillmode": "overlay",
             "size": 10,
             "solidity": 0.2
            },
            "type": "scatter"
           }
          ],
          "scatter3d": [
           {
            "line": {
             "colorbar": {
              "outlinewidth": 0,
              "ticks": ""
             }
            },
            "marker": {
             "colorbar": {
              "outlinewidth": 0,
              "ticks": ""
             }
            },
            "type": "scatter3d"
           }
          ],
          "scattercarpet": [
           {
            "marker": {
             "colorbar": {
              "outlinewidth": 0,
              "ticks": ""
             }
            },
            "type": "scattercarpet"
           }
          ],
          "scattergeo": [
           {
            "marker": {
             "colorbar": {
              "outlinewidth": 0,
              "ticks": ""
             }
            },
            "type": "scattergeo"
           }
          ],
          "scattergl": [
           {
            "marker": {
             "colorbar": {
              "outlinewidth": 0,
              "ticks": ""
             }
            },
            "type": "scattergl"
           }
          ],
          "scattermapbox": [
           {
            "marker": {
             "colorbar": {
              "outlinewidth": 0,
              "ticks": ""
             }
            },
            "type": "scattermapbox"
           }
          ],
          "scatterpolar": [
           {
            "marker": {
             "colorbar": {
              "outlinewidth": 0,
              "ticks": ""
             }
            },
            "type": "scatterpolar"
           }
          ],
          "scatterpolargl": [
           {
            "marker": {
             "colorbar": {
              "outlinewidth": 0,
              "ticks": ""
             }
            },
            "type": "scatterpolargl"
           }
          ],
          "scatterternary": [
           {
            "marker": {
             "colorbar": {
              "outlinewidth": 0,
              "ticks": ""
             }
            },
            "type": "scatterternary"
           }
          ],
          "surface": [
           {
            "colorbar": {
             "outlinewidth": 0,
             "ticks": ""
            },
            "colorscale": [
             [
              0,
              "#0d0887"
             ],
             [
              0.1111111111111111,
              "#46039f"
             ],
             [
              0.2222222222222222,
              "#7201a8"
             ],
             [
              0.3333333333333333,
              "#9c179e"
             ],
             [
              0.4444444444444444,
              "#bd3786"
             ],
             [
              0.5555555555555556,
              "#d8576b"
             ],
             [
              0.6666666666666666,
              "#ed7953"
             ],
             [
              0.7777777777777778,
              "#fb9f3a"
             ],
             [
              0.8888888888888888,
              "#fdca26"
             ],
             [
              1,
              "#f0f921"
             ]
            ],
            "type": "surface"
           }
          ],
          "table": [
           {
            "cells": {
             "fill": {
              "color": "#EBF0F8"
             },
             "line": {
              "color": "white"
             }
            },
            "header": {
             "fill": {
              "color": "#C8D4E3"
             },
             "line": {
              "color": "white"
             }
            },
            "type": "table"
           }
          ]
         },
         "layout": {
          "annotationdefaults": {
           "arrowcolor": "#2a3f5f",
           "arrowhead": 0,
           "arrowwidth": 1
          },
          "autotypenumbers": "strict",
          "coloraxis": {
           "colorbar": {
            "outlinewidth": 0,
            "ticks": ""
           }
          },
          "colorscale": {
           "diverging": [
            [
             0,
             "#8e0152"
            ],
            [
             0.1,
             "#c51b7d"
            ],
            [
             0.2,
             "#de77ae"
            ],
            [
             0.3,
             "#f1b6da"
            ],
            [
             0.4,
             "#fde0ef"
            ],
            [
             0.5,
             "#f7f7f7"
            ],
            [
             0.6,
             "#e6f5d0"
            ],
            [
             0.7,
             "#b8e186"
            ],
            [
             0.8,
             "#7fbc41"
            ],
            [
             0.9,
             "#4d9221"
            ],
            [
             1,
             "#276419"
            ]
           ],
           "sequential": [
            [
             0,
             "#0d0887"
            ],
            [
             0.1111111111111111,
             "#46039f"
            ],
            [
             0.2222222222222222,
             "#7201a8"
            ],
            [
             0.3333333333333333,
             "#9c179e"
            ],
            [
             0.4444444444444444,
             "#bd3786"
            ],
            [
             0.5555555555555556,
             "#d8576b"
            ],
            [
             0.6666666666666666,
             "#ed7953"
            ],
            [
             0.7777777777777778,
             "#fb9f3a"
            ],
            [
             0.8888888888888888,
             "#fdca26"
            ],
            [
             1,
             "#f0f921"
            ]
           ],
           "sequentialminus": [
            [
             0,
             "#0d0887"
            ],
            [
             0.1111111111111111,
             "#46039f"
            ],
            [
             0.2222222222222222,
             "#7201a8"
            ],
            [
             0.3333333333333333,
             "#9c179e"
            ],
            [
             0.4444444444444444,
             "#bd3786"
            ],
            [
             0.5555555555555556,
             "#d8576b"
            ],
            [
             0.6666666666666666,
             "#ed7953"
            ],
            [
             0.7777777777777778,
             "#fb9f3a"
            ],
            [
             0.8888888888888888,
             "#fdca26"
            ],
            [
             1,
             "#f0f921"
            ]
           ]
          },
          "colorway": [
           "#636efa",
           "#EF553B",
           "#00cc96",
           "#ab63fa",
           "#FFA15A",
           "#19d3f3",
           "#FF6692",
           "#B6E880",
           "#FF97FF",
           "#FECB52"
          ],
          "font": {
           "color": "#2a3f5f"
          },
          "geo": {
           "bgcolor": "white",
           "lakecolor": "white",
           "landcolor": "#E5ECF6",
           "showlakes": true,
           "showland": true,
           "subunitcolor": "white"
          },
          "hoverlabel": {
           "align": "left"
          },
          "hovermode": "closest",
          "mapbox": {
           "style": "light"
          },
          "paper_bgcolor": "white",
          "plot_bgcolor": "#E5ECF6",
          "polar": {
           "angularaxis": {
            "gridcolor": "white",
            "linecolor": "white",
            "ticks": ""
           },
           "bgcolor": "#E5ECF6",
           "radialaxis": {
            "gridcolor": "white",
            "linecolor": "white",
            "ticks": ""
           }
          },
          "scene": {
           "xaxis": {
            "backgroundcolor": "#E5ECF6",
            "gridcolor": "white",
            "gridwidth": 2,
            "linecolor": "white",
            "showbackground": true,
            "ticks": "",
            "zerolinecolor": "white"
           },
           "yaxis": {
            "backgroundcolor": "#E5ECF6",
            "gridcolor": "white",
            "gridwidth": 2,
            "linecolor": "white",
            "showbackground": true,
            "ticks": "",
            "zerolinecolor": "white"
           },
           "zaxis": {
            "backgroundcolor": "#E5ECF6",
            "gridcolor": "white",
            "gridwidth": 2,
            "linecolor": "white",
            "showbackground": true,
            "ticks": "",
            "zerolinecolor": "white"
           }
          },
          "shapedefaults": {
           "line": {
            "color": "#2a3f5f"
           }
          },
          "ternary": {
           "aaxis": {
            "gridcolor": "white",
            "linecolor": "white",
            "ticks": ""
           },
           "baxis": {
            "gridcolor": "white",
            "linecolor": "white",
            "ticks": ""
           },
           "bgcolor": "#E5ECF6",
           "caxis": {
            "gridcolor": "white",
            "linecolor": "white",
            "ticks": ""
           }
          },
          "title": {
           "x": 0.05
          },
          "xaxis": {
           "automargin": true,
           "gridcolor": "white",
           "linecolor": "white",
           "ticks": "",
           "title": {
            "standoff": 15
           },
           "zerolinecolor": "white",
           "zerolinewidth": 2
          },
          "yaxis": {
           "automargin": true,
           "gridcolor": "white",
           "linecolor": "white",
           "ticks": "",
           "title": {
            "standoff": 15
           },
           "zerolinecolor": "white",
           "zerolinewidth": 2
          }
         }
        },
        "width": 950,
        "xaxis": {
         "showgrid": false,
         "visible": false,
         "zeroline": false
        },
        "yaxis": {
         "showgrid": false,
         "visible": false,
         "zeroline": false
        }
       }
      }
     },
     "metadata": {},
     "output_type": "display_data"
    },
    {
     "name": "stdout",
     "output_type": "stream",
     "text": [
      "['category', 'id', 'label', 'x', 'y', 'z'] [3, 2, 'Face_36', 0.0, 10.0, 5.0]\n",
      "['category', 'id', 'label', 'x', 'y', 'z'] [3, 3, 'Face_40', 10.0, -10.0, -5.0]\n",
      "['category', 'id', 'label', 'x', 'y', 'z'] [3, 4, 'Face_39', 10.0, -5.0, -10.0]\n",
      "['category', 'id', 'label', 'x', 'y', 'z'] [1, 6, 'Face_42', 10.0, -5.0, 0.0]\n",
      "['category', 'id', 'label', 'x', 'y', 'z'] [3, 7, 'Face_43', 0.0, -10.0, 5.0]\n",
      "['category', 'id', 'label', 'x', 'y', 'z'] [1, 8, 'Face_45', 5.0, -5.0, 5.0]\n",
      "['category', 'id', 'label', 'x', 'y', 'z'] [3, 9, 'Face_44', -0.0, -5.0, 10.0]\n",
      "['category', 'id', 'label', 'x', 'y', 'z'] [3, 1, 'Face_35', -0.0, 5.0, 10.0]\n",
      "['category', 'id', 'label', 'x', 'y', 'z'] [3, 11, 'Face_46', 10.0, 5.0, 10.0]\n",
      "['category', 'id', 'label', 'x', 'y', 'z'] [3, 12, 'Face_47', 10.0, 10.0, 5.0]\n",
      "['category', 'id', 'label', 'x', 'y', 'z'] [3, 14, 'Face_7', -10.0, -5.0, -10.0]\n",
      "['category', 'id', 'label', 'x', 'y', 'z'] [3, 15, 'Face_9', -10.0, -10.0, -5.0]\n",
      "['category', 'id', 'label', 'x', 'y', 'z'] [1, 16, 'Face_11', -10.0, -5.0, 0.0]\n",
      "['category', 'id', 'label', 'x', 'y', 'z'] [1, 17, 'Face_6', -10.0, 5.0, 0.0]\n",
      "['category', 'id', 'label', 'x', 'y', 'z'] [1, 18, 'Face_4', -5.0, 5.0, -5.0]\n",
      "['category', 'id', 'label', 'x', 'y', 'z'] [1, 20, 'Face_3', -10.0, 0.0, -5.0]\n",
      "['category', 'id', 'label', 'x', 'y', 'z'] [3, 5, 'Face_41', 15.0, -5.0, -5.0]\n",
      "['category', 'id', 'label', 'x', 'y', 'z'] [1, 10, 'Face_48', 10.0, 0.0, 5.0]\n",
      "['category', 'id', 'label', 'x', 'y', 'z'] [1, 0, 'Face_38', 5.0, 5.0, 5.0]\n",
      "['category', 'id', 'label', 'x', 'y', 'z'] [3, 19, 'Face_1', -10.0, 5.0, -10.0]\n",
      "['category', 'id', 'label', 'x', 'y', 'z'] [3, 13, 'Face_8', -15.0, -5.0, -5.0]\n",
      "['category', 'id', 'label', 'x', 'y', 'z'] [3, 21, 'Face_2', -15.0, 5.0, -5.0]\n",
      "['category', 'id', 'label', 'x', 'y', 'z'] [3, 22, 'Face_5', -10.0, 10.0, -5.0]\n",
      "['category', 'id', 'label', 'x', 'y', 'z'] [1, 23, 'Face_10', -5.0, -5.0, -5.0]\n",
      "['category', 'id', 'label', 'x', 'y', 'z'] [3, 38, 'Face_22', -0.0, -5.0, -10.0]\n",
      "['category', 'id', 'label', 'x', 'y', 'z'] [1, 26, 'Face_20', -10.0, 0.0, 5.0]\n",
      "['category', 'id', 'label', 'x', 'y', 'z'] [3, 45, 'Face_30', 10.0, 5.0, -10.0]\n",
      "['category', 'id', 'label', 'x', 'y', 'z'] [0, 52, 'Cell_1', -10.0, 5.0, -5.0]\n",
      "['category', 'id', 'label', 'x', 'y', 'z'] [0, 62, 'Cell_10', 0.0, -5.0, 5.0]\n",
      "['category', 'id', 'label', 'x', 'y', 'z'] [3, 30, 'Face_19', -10.0, 5.0, 10.0]\n",
      "['category', 'id', 'label', 'x', 'y', 'z'] [1, 35, 'Face_25', -0.0, -5.0, 0.0]\n",
      "['category', 'id', 'label', 'x', 'y', 'z'] [1, 39, 'Face_28', -5.0, -5.0, 5.0]\n",
      "['category', 'id', 'label', 'x', 'y', 'z'] [0, 63, 'Cell_9', 10.0, -5.0, -5.0]\n",
      "['category', 'id', 'label', 'x', 'y', 'z'] [1, 36, 'Face_24', 5.0, -5.0, -5.0]\n",
      "['category', 'id', 'label', 'x', 'y', 'z'] [0, 48, 'Cell_12', 10.0, -5.0, 5.0]\n",
      "['category', 'id', 'label', 'x', 'y', 'z'] [3, 24, 'Face_12', -0.0, 5.0, -10.0]\n",
      "['category', 'id', 'label', 'x', 'y', 'z'] [1, 34, 'Face_37', -0.0, 0.0, 5.0]\n",
      "['category', 'id', 'label', 'x', 'y', 'z'] [3, 41, 'Face_27', -15.0, -5.0, 5.0]\n",
      "['category', 'id', 'label', 'x', 'y', 'z'] [1, 43, 'Face_34', 10.0, 5.0, -0.0]\n",
      "['category', 'id', 'label', 'x', 'y', 'z'] [1, 32, 'Face_14', 5.0, 5.0, -5.0]\n",
      "['category', 'id', 'label', 'x', 'y', 'z'] [3, 51, 'Face_50', 10.0, -10.0, 5.0]\n",
      "['category', 'id', 'label', 'x', 'y', 'z'] [0, 59, 'Cell_6', -10.0, -5.0, 5.0]\n",
      "['category', 'id', 'label', 'x', 'y', 'z'] [0, 58, 'Cell_5', -0.0, -5.0, -5.0]\n",
      "['category', 'id', 'label', 'x', 'y', 'z'] [0, 49, 'Cell_11', 10.0, 5.0, 5.0]\n",
      "['category', 'id', 'label', 'x', 'y', 'z'] [3, 29, 'Face_17', -15.0, 5.0, 5.0]\n",
      "['category', 'id', 'label', 'x', 'y', 'z'] [3, 28, 'Face_18', -10.0, 10.0, 5.0]\n",
      "['category', 'id', 'label', 'x', 'y', 'z'] [1, 27, 'Face_21', -5.0, 5.0, 5.0]\n",
      "['category', 'id', 'label', 'x', 'y', 'z'] [3, 42, 'Face_29', -10.0, -5.0, 10.0]\n",
      "['category', 'id', 'label', 'x', 'y', 'z'] [3, 53, 'Face_51', 10.0, -5.0, 10.0]\n",
      "['category', 'id', 'label', 'x', 'y', 'z'] [3, 25, 'Face_15', 0.0, 10.0, -5.0]\n",
      "['category', 'id', 'label', 'x', 'y', 'z'] [1, 33, 'Face_13', -0.0, 0.0, -5.0]\n",
      "['category', 'id', 'label', 'x', 'y', 'z'] [0, 56, 'Cell_3', 0.0, 5.0, -5.0]\n",
      "['category', 'id', 'label', 'x', 'y', 'z'] [0, 57, 'Cell_4', -10.0, 5.0, 5.0]\n",
      "['category', 'id', 'label', 'x', 'y', 'z'] [3, 47, 'Face_32', 15.0, 5.0, -5.0]\n",
      "['category', 'id', 'label', 'x', 'y', 'z'] [0, 55, 'Cell_2', -10.0, -5.0, -5.0]\n",
      "['category', 'id', 'label', 'x', 'y', 'z'] [3, 40, 'Face_26', -10.0, -10.0, 5.0]\n",
      "['category', 'id', 'label', 'x', 'y', 'z'] [1, 31, 'Face_16', -0.0, 5.0, -0.0]\n",
      "['category', 'id', 'label', 'x', 'y', 'z'] [3, 50, 'Face_49', 15.0, 5.0, 5.0]\n",
      "['category', 'id', 'label', 'x', 'y', 'z'] [3, 54, 'Face_52', 15.0, -5.0, 5.0]\n",
      "['category', 'id', 'label', 'x', 'y', 'z'] [3, 46, 'Face_33', 10.0, 10.0, -5.0]\n",
      "['category', 'id', 'label', 'x', 'y', 'z'] [0, 60, 'Cell_7', 10.0, 5.0, -5.0]\n",
      "['category', 'id', 'label', 'x', 'y', 'z'] [0, 61, 'Cell_8', 0.0, 5.0, 5.0]\n",
      "['category', 'id', 'label', 'x', 'y', 'z'] [3, 37, 'Face_23', 0.0, -10.0, -5.0]\n",
      "['category', 'id', 'label', 'x', 'y', 'z'] [1, 44, 'Face_31', 10.0, 0.0, -5.0]\n"
     ]
    }
   ],
   "source": [
    "t_graph = Neo4j.ExportToGraph(n_graph)\n",
    "Graph.Show(t_graph, vertexGroupKey=\"category\", vertexGroups=[0,1,3], vertexSize=12, vertexLabelKey=\"label\", edgeLabelKey=\"relationship\", colorScale=\"thermal_r\")\n",
    "vertices = Graph.Vertices(t_graph)\n",
    "for v in vertices:\n",
    "    d = Topology.Dictionary(v)\n",
    "    print(Dictionary.Keys(d), Dictionary.Values(d))"
   ]
  },
  {
   "cell_type": "markdown",
   "metadata": {},
   "source": [
    "### Step 8: Get ONLY the vertices and edges that match the cypher string"
   ]
  },
  {
   "cell_type": "code",
   "execution_count": 9,
   "metadata": {},
   "outputs": [
    {
     "data": {
      "application/vnd.plotly.v1+json": {
       "config": {
        "plotlyServerURL": "https://plot.ly"
       },
       "data": [
        {
         "hoverinfo": "text",
         "legendgroup": "4",
         "legendrank": 4,
         "marker": {
          "cmax": 1,
          "cmin": 0,
          "color": [
           0.6666666666666666,
           0.6666666666666666,
           0.6666666666666666,
           0.6666666666666666,
           0.6666666666666666,
           0.6666666666666666,
           0.6666666666666666,
           0.6666666666666666,
           0.6666666666666666,
           0.6666666666666666,
           0.6666666666666666,
           0.6666666666666666,
           0.6666666666666666,
           0,
           0.6666666666666666,
           0.6666666666666666,
           0.6666666666666666,
           0.6666666666666666,
           0,
           0,
           0.6666666666666666,
           0.6666666666666666,
           0,
           0,
           0.6666666666666666,
           0.6666666666666666,
           0,
           0,
           0.6666666666666666,
           0,
           0,
           0.6666666666666666,
           0.6666666666666666,
           0.6666666666666666,
           0.6666666666666666,
           0.6666666666666666,
           0.6666666666666666,
           0.6666666666666666,
           0.6666666666666666,
           0.6666666666666666,
           0,
           0.6666666666666666,
           0,
           0
          ],
          "colorscale": [
           [
            0,
            "rgb(231, 250, 90)"
           ],
           [
            0.09090909090909091,
            "rgb(246, 211, 70)"
           ],
           [
            0.18181818181818182,
            "rgb(251, 173, 60)"
           ],
           [
            0.2727272727272727,
            "rgb(246, 139, 69)"
           ],
           [
            0.36363636363636365,
            "rgb(225, 113, 97)"
           ],
           [
            0.45454545454545453,
            "rgb(193, 100, 121)"
           ],
           [
            0.5454545454545454,
            "rgb(158, 89, 135)"
           ],
           [
            0.6363636363636364,
            "rgb(126, 77, 143)"
           ],
           [
            0.7272727272727273,
            "rgb(93, 62, 153)"
           ],
           [
            0.8181818181818182,
            "rgb(53, 50, 155)"
           ],
           [
            0.9090909090909091,
            "rgb(13, 48, 100)"
           ],
           [
            1,
            "rgb(3, 35, 51)"
           ]
          ],
          "line": {
           "color": "black",
           "width": 0.5
          },
          "size": 12,
          "symbol": "circle"
         },
         "mode": "markers",
         "name": "Graph Vertices",
         "showlegend": false,
         "text": [
          "Face_39",
          "Face_40",
          "Face_41",
          "Face_43",
          "Face_44",
          "Face_46",
          "Face_47",
          "Face_8",
          "Face_7",
          "Face_9",
          "Face_36",
          "Face_35",
          "Face_12",
          "Cell_6",
          "Face_30",
          "Face_17",
          "Face_50",
          "Face_29",
          "Cell_3",
          "Cell_2",
          "Face_23",
          "Face_33",
          "Cell_10",
          "Cell_9",
          "Face_15",
          "Face_22",
          "Cell_12",
          "Cell_11",
          "Face_49",
          "Cell_1",
          "Cell_5",
          "Face_27",
          "Face_26",
          "Face_1",
          "Face_18",
          "Face_19",
          "Face_32",
          "Face_5",
          "Face_51",
          "Face_52",
          "Cell_7",
          "Face_2",
          "Cell_4",
          "Cell_8"
         ],
         "type": "scatter3d",
         "x": [
          10,
          10,
          15,
          0,
          0,
          10,
          10,
          -15,
          -10,
          -10,
          0,
          0,
          0,
          -10,
          10,
          -15,
          10,
          -10,
          0,
          -10,
          0,
          10,
          0,
          10,
          0,
          0,
          10,
          10,
          15,
          -10,
          0,
          -15,
          -10,
          -10,
          -10,
          -10,
          15,
          -10,
          10,
          15,
          10,
          -15,
          -10,
          0
         ],
         "y": [
          -5,
          -10,
          -5,
          -10,
          -5,
          5,
          10,
          -5,
          -5,
          -10,
          10,
          5,
          5,
          -5,
          5,
          5,
          -10,
          -5,
          5,
          -5,
          -10,
          10,
          -5,
          -5,
          10,
          -5,
          -5,
          5,
          5,
          5,
          -5,
          -5,
          -10,
          5,
          10,
          5,
          5,
          10,
          -5,
          -5,
          5,
          5,
          5,
          5
         ],
         "z": [
          -10,
          -5,
          -5,
          5,
          10,
          10,
          5,
          -5,
          -10,
          -5,
          5,
          10,
          -10,
          5,
          -10,
          5,
          5,
          10,
          -5,
          -5,
          -5,
          -5,
          5,
          -5,
          -5,
          -10,
          5,
          5,
          5,
          -5,
          -5,
          5,
          5,
          -10,
          5,
          10,
          -5,
          -5,
          10,
          5,
          -5,
          -5,
          5,
          5
         ]
        },
        {
         "hoverinfo": "text",
         "legendgroup": "5",
         "legendrank": 5,
         "line": {
          "color": "black",
          "width": 1
         },
         "mode": "lines",
         "name": "Graph Edges",
         "showlegend": false,
         "text": [
          "To_Exterior_Topologies",
          "To_Exterior_Topologies",
          "To_Exterior_Topologies",
          "To_Exterior_Topologies",
          "To_Exterior_Topologies",
          "To_Exterior_Topologies",
          "To_Exterior_Topologies",
          "To_Exterior_Topologies",
          "To_Exterior_Topologies",
          "To_Exterior_Topologies",
          "To_Exterior_Topologies",
          "To_Exterior_Topologies",
          "To_Exterior_Topologies",
          "To_Exterior_Topologies",
          "To_Exterior_Topologies",
          "To_Exterior_Topologies",
          "To_Exterior_Topologies",
          "To_Exterior_Topologies",
          "To_Exterior_Topologies",
          "To_Exterior_Topologies",
          "To_Exterior_Topologies",
          "To_Exterior_Topologies",
          "To_Exterior_Topologies",
          "To_Exterior_Topologies",
          "To_Exterior_Topologies",
          "To_Exterior_Topologies",
          "To_Exterior_Topologies",
          "To_Exterior_Topologies",
          "To_Exterior_Topologies",
          "To_Exterior_Topologies",
          "To_Exterior_Topologies",
          "To_Exterior_Topologies"
         ],
         "type": "scatter3d",
         "x": [
          10,
          10,
          null,
          10,
          10,
          null,
          15,
          10,
          null,
          0,
          0,
          null,
          0,
          0,
          null,
          10,
          10,
          null,
          10,
          10,
          null,
          -15,
          -10,
          null,
          -10,
          -10,
          null,
          -10,
          -10,
          null,
          0,
          0,
          null,
          0,
          0,
          null,
          0,
          0,
          null,
          -15,
          -10,
          null,
          -10,
          -10,
          null,
          -10,
          -10,
          null,
          10,
          10,
          null,
          -15,
          -10,
          null,
          10,
          10,
          null,
          0,
          0,
          null,
          0,
          0,
          null,
          10,
          10,
          null,
          0,
          0,
          null,
          10,
          15,
          null,
          10,
          10,
          null,
          10,
          15,
          null,
          -10,
          -10,
          null,
          -15,
          -10,
          null,
          -10,
          -10,
          null,
          -10,
          -10,
          null,
          -10,
          -10,
          null,
          15,
          10,
          null
         ],
         "y": [
          -5,
          -5,
          null,
          -10,
          -5,
          null,
          -5,
          -5,
          null,
          -10,
          -5,
          null,
          -5,
          -5,
          null,
          5,
          5,
          null,
          10,
          5,
          null,
          -5,
          -5,
          null,
          -5,
          -5,
          null,
          -10,
          -5,
          null,
          10,
          5,
          null,
          5,
          5,
          null,
          5,
          5,
          null,
          -5,
          -5,
          null,
          -10,
          -5,
          null,
          -5,
          -5,
          null,
          5,
          5,
          null,
          5,
          5,
          null,
          -5,
          -10,
          null,
          10,
          5,
          null,
          -10,
          -5,
          null,
          10,
          5,
          null,
          -5,
          -5,
          null,
          -5,
          -5,
          null,
          -5,
          -5,
          null,
          5,
          5,
          null,
          5,
          5,
          null,
          5,
          5,
          null,
          10,
          5,
          null,
          10,
          5,
          null,
          5,
          5,
          null,
          5,
          5,
          null
         ],
         "z": [
          -10,
          -5,
          null,
          -5,
          -5,
          null,
          -5,
          -5,
          null,
          5,
          5,
          null,
          10,
          5,
          null,
          10,
          5,
          null,
          5,
          5,
          null,
          -5,
          -5,
          null,
          -10,
          -5,
          null,
          -5,
          -5,
          null,
          5,
          5,
          null,
          10,
          5,
          null,
          -10,
          -5,
          null,
          5,
          5,
          null,
          5,
          5,
          null,
          10,
          5,
          null,
          -10,
          -5,
          null,
          5,
          5,
          null,
          5,
          5,
          null,
          -5,
          -5,
          null,
          -5,
          -5,
          null,
          -5,
          -5,
          null,
          -10,
          -5,
          null,
          5,
          5,
          null,
          5,
          10,
          null,
          5,
          5,
          null,
          -10,
          -5,
          null,
          -5,
          -5,
          null,
          -5,
          -5,
          null,
          5,
          5,
          null,
          10,
          5,
          null,
          -5,
          -5,
          null
         ]
        }
       ],
       "layout": {
        "autosize": true,
        "height": 500,
        "margin": {
         "b": 40,
         "l": 40,
         "r": 40,
         "t": 40
        },
        "paper_bgcolor": "rgba(0,0,0,0)",
        "plot_bgcolor": "rgba(0,0,0,0)",
        "scene": {
         "aspectmode": "data",
         "camera": {
          "center": {
           "x": 0,
           "y": 0,
           "z": 0
          },
          "eye": {
           "x": -1.25,
           "y": -1.25,
           "z": 1.25
          },
          "projection": {
           "type": "perspective"
          },
          "up": {
           "x": 0,
           "y": 0,
           "z": 1
          }
         },
         "xaxis": {
          "visible": false
         },
         "yaxis": {
          "visible": false
         },
         "zaxis": {
          "visible": false
         }
        },
        "showlegend": true,
        "template": {
         "data": {
          "bar": [
           {
            "error_x": {
             "color": "#2a3f5f"
            },
            "error_y": {
             "color": "#2a3f5f"
            },
            "marker": {
             "line": {
              "color": "#E5ECF6",
              "width": 0.5
             },
             "pattern": {
              "fillmode": "overlay",
              "size": 10,
              "solidity": 0.2
             }
            },
            "type": "bar"
           }
          ],
          "barpolar": [
           {
            "marker": {
             "line": {
              "color": "#E5ECF6",
              "width": 0.5
             },
             "pattern": {
              "fillmode": "overlay",
              "size": 10,
              "solidity": 0.2
             }
            },
            "type": "barpolar"
           }
          ],
          "carpet": [
           {
            "aaxis": {
             "endlinecolor": "#2a3f5f",
             "gridcolor": "white",
             "linecolor": "white",
             "minorgridcolor": "white",
             "startlinecolor": "#2a3f5f"
            },
            "baxis": {
             "endlinecolor": "#2a3f5f",
             "gridcolor": "white",
             "linecolor": "white",
             "minorgridcolor": "white",
             "startlinecolor": "#2a3f5f"
            },
            "type": "carpet"
           }
          ],
          "choropleth": [
           {
            "colorbar": {
             "outlinewidth": 0,
             "ticks": ""
            },
            "type": "choropleth"
           }
          ],
          "contour": [
           {
            "colorbar": {
             "outlinewidth": 0,
             "ticks": ""
            },
            "colorscale": [
             [
              0,
              "#0d0887"
             ],
             [
              0.1111111111111111,
              "#46039f"
             ],
             [
              0.2222222222222222,
              "#7201a8"
             ],
             [
              0.3333333333333333,
              "#9c179e"
             ],
             [
              0.4444444444444444,
              "#bd3786"
             ],
             [
              0.5555555555555556,
              "#d8576b"
             ],
             [
              0.6666666666666666,
              "#ed7953"
             ],
             [
              0.7777777777777778,
              "#fb9f3a"
             ],
             [
              0.8888888888888888,
              "#fdca26"
             ],
             [
              1,
              "#f0f921"
             ]
            ],
            "type": "contour"
           }
          ],
          "contourcarpet": [
           {
            "colorbar": {
             "outlinewidth": 0,
             "ticks": ""
            },
            "type": "contourcarpet"
           }
          ],
          "heatmap": [
           {
            "colorbar": {
             "outlinewidth": 0,
             "ticks": ""
            },
            "colorscale": [
             [
              0,
              "#0d0887"
             ],
             [
              0.1111111111111111,
              "#46039f"
             ],
             [
              0.2222222222222222,
              "#7201a8"
             ],
             [
              0.3333333333333333,
              "#9c179e"
             ],
             [
              0.4444444444444444,
              "#bd3786"
             ],
             [
              0.5555555555555556,
              "#d8576b"
             ],
             [
              0.6666666666666666,
              "#ed7953"
             ],
             [
              0.7777777777777778,
              "#fb9f3a"
             ],
             [
              0.8888888888888888,
              "#fdca26"
             ],
             [
              1,
              "#f0f921"
             ]
            ],
            "type": "heatmap"
           }
          ],
          "heatmapgl": [
           {
            "colorbar": {
             "outlinewidth": 0,
             "ticks": ""
            },
            "colorscale": [
             [
              0,
              "#0d0887"
             ],
             [
              0.1111111111111111,
              "#46039f"
             ],
             [
              0.2222222222222222,
              "#7201a8"
             ],
             [
              0.3333333333333333,
              "#9c179e"
             ],
             [
              0.4444444444444444,
              "#bd3786"
             ],
             [
              0.5555555555555556,
              "#d8576b"
             ],
             [
              0.6666666666666666,
              "#ed7953"
             ],
             [
              0.7777777777777778,
              "#fb9f3a"
             ],
             [
              0.8888888888888888,
              "#fdca26"
             ],
             [
              1,
              "#f0f921"
             ]
            ],
            "type": "heatmapgl"
           }
          ],
          "histogram": [
           {
            "marker": {
             "pattern": {
              "fillmode": "overlay",
              "size": 10,
              "solidity": 0.2
             }
            },
            "type": "histogram"
           }
          ],
          "histogram2d": [
           {
            "colorbar": {
             "outlinewidth": 0,
             "ticks": ""
            },
            "colorscale": [
             [
              0,
              "#0d0887"
             ],
             [
              0.1111111111111111,
              "#46039f"
             ],
             [
              0.2222222222222222,
              "#7201a8"
             ],
             [
              0.3333333333333333,
              "#9c179e"
             ],
             [
              0.4444444444444444,
              "#bd3786"
             ],
             [
              0.5555555555555556,
              "#d8576b"
             ],
             [
              0.6666666666666666,
              "#ed7953"
             ],
             [
              0.7777777777777778,
              "#fb9f3a"
             ],
             [
              0.8888888888888888,
              "#fdca26"
             ],
             [
              1,
              "#f0f921"
             ]
            ],
            "type": "histogram2d"
           }
          ],
          "histogram2dcontour": [
           {
            "colorbar": {
             "outlinewidth": 0,
             "ticks": ""
            },
            "colorscale": [
             [
              0,
              "#0d0887"
             ],
             [
              0.1111111111111111,
              "#46039f"
             ],
             [
              0.2222222222222222,
              "#7201a8"
             ],
             [
              0.3333333333333333,
              "#9c179e"
             ],
             [
              0.4444444444444444,
              "#bd3786"
             ],
             [
              0.5555555555555556,
              "#d8576b"
             ],
             [
              0.6666666666666666,
              "#ed7953"
             ],
             [
              0.7777777777777778,
              "#fb9f3a"
             ],
             [
              0.8888888888888888,
              "#fdca26"
             ],
             [
              1,
              "#f0f921"
             ]
            ],
            "type": "histogram2dcontour"
           }
          ],
          "mesh3d": [
           {
            "colorbar": {
             "outlinewidth": 0,
             "ticks": ""
            },
            "type": "mesh3d"
           }
          ],
          "parcoords": [
           {
            "line": {
             "colorbar": {
              "outlinewidth": 0,
              "ticks": ""
             }
            },
            "type": "parcoords"
           }
          ],
          "pie": [
           {
            "automargin": true,
            "type": "pie"
           }
          ],
          "scatter": [
           {
            "fillpattern": {
             "fillmode": "overlay",
             "size": 10,
             "solidity": 0.2
            },
            "type": "scatter"
           }
          ],
          "scatter3d": [
           {
            "line": {
             "colorbar": {
              "outlinewidth": 0,
              "ticks": ""
             }
            },
            "marker": {
             "colorbar": {
              "outlinewidth": 0,
              "ticks": ""
             }
            },
            "type": "scatter3d"
           }
          ],
          "scattercarpet": [
           {
            "marker": {
             "colorbar": {
              "outlinewidth": 0,
              "ticks": ""
             }
            },
            "type": "scattercarpet"
           }
          ],
          "scattergeo": [
           {
            "marker": {
             "colorbar": {
              "outlinewidth": 0,
              "ticks": ""
             }
            },
            "type": "scattergeo"
           }
          ],
          "scattergl": [
           {
            "marker": {
             "colorbar": {
              "outlinewidth": 0,
              "ticks": ""
             }
            },
            "type": "scattergl"
           }
          ],
          "scattermapbox": [
           {
            "marker": {
             "colorbar": {
              "outlinewidth": 0,
              "ticks": ""
             }
            },
            "type": "scattermapbox"
           }
          ],
          "scatterpolar": [
           {
            "marker": {
             "colorbar": {
              "outlinewidth": 0,
              "ticks": ""
             }
            },
            "type": "scatterpolar"
           }
          ],
          "scatterpolargl": [
           {
            "marker": {
             "colorbar": {
              "outlinewidth": 0,
              "ticks": ""
             }
            },
            "type": "scatterpolargl"
           }
          ],
          "scatterternary": [
           {
            "marker": {
             "colorbar": {
              "outlinewidth": 0,
              "ticks": ""
             }
            },
            "type": "scatterternary"
           }
          ],
          "surface": [
           {
            "colorbar": {
             "outlinewidth": 0,
             "ticks": ""
            },
            "colorscale": [
             [
              0,
              "#0d0887"
             ],
             [
              0.1111111111111111,
              "#46039f"
             ],
             [
              0.2222222222222222,
              "#7201a8"
             ],
             [
              0.3333333333333333,
              "#9c179e"
             ],
             [
              0.4444444444444444,
              "#bd3786"
             ],
             [
              0.5555555555555556,
              "#d8576b"
             ],
             [
              0.6666666666666666,
              "#ed7953"
             ],
             [
              0.7777777777777778,
              "#fb9f3a"
             ],
             [
              0.8888888888888888,
              "#fdca26"
             ],
             [
              1,
              "#f0f921"
             ]
            ],
            "type": "surface"
           }
          ],
          "table": [
           {
            "cells": {
             "fill": {
              "color": "#EBF0F8"
             },
             "line": {
              "color": "white"
             }
            },
            "header": {
             "fill": {
              "color": "#C8D4E3"
             },
             "line": {
              "color": "white"
             }
            },
            "type": "table"
           }
          ]
         },
         "layout": {
          "annotationdefaults": {
           "arrowcolor": "#2a3f5f",
           "arrowhead": 0,
           "arrowwidth": 1
          },
          "autotypenumbers": "strict",
          "coloraxis": {
           "colorbar": {
            "outlinewidth": 0,
            "ticks": ""
           }
          },
          "colorscale": {
           "diverging": [
            [
             0,
             "#8e0152"
            ],
            [
             0.1,
             "#c51b7d"
            ],
            [
             0.2,
             "#de77ae"
            ],
            [
             0.3,
             "#f1b6da"
            ],
            [
             0.4,
             "#fde0ef"
            ],
            [
             0.5,
             "#f7f7f7"
            ],
            [
             0.6,
             "#e6f5d0"
            ],
            [
             0.7,
             "#b8e186"
            ],
            [
             0.8,
             "#7fbc41"
            ],
            [
             0.9,
             "#4d9221"
            ],
            [
             1,
             "#276419"
            ]
           ],
           "sequential": [
            [
             0,
             "#0d0887"
            ],
            [
             0.1111111111111111,
             "#46039f"
            ],
            [
             0.2222222222222222,
             "#7201a8"
            ],
            [
             0.3333333333333333,
             "#9c179e"
            ],
            [
             0.4444444444444444,
             "#bd3786"
            ],
            [
             0.5555555555555556,
             "#d8576b"
            ],
            [
             0.6666666666666666,
             "#ed7953"
            ],
            [
             0.7777777777777778,
             "#fb9f3a"
            ],
            [
             0.8888888888888888,
             "#fdca26"
            ],
            [
             1,
             "#f0f921"
            ]
           ],
           "sequentialminus": [
            [
             0,
             "#0d0887"
            ],
            [
             0.1111111111111111,
             "#46039f"
            ],
            [
             0.2222222222222222,
             "#7201a8"
            ],
            [
             0.3333333333333333,
             "#9c179e"
            ],
            [
             0.4444444444444444,
             "#bd3786"
            ],
            [
             0.5555555555555556,
             "#d8576b"
            ],
            [
             0.6666666666666666,
             "#ed7953"
            ],
            [
             0.7777777777777778,
             "#fb9f3a"
            ],
            [
             0.8888888888888888,
             "#fdca26"
            ],
            [
             1,
             "#f0f921"
            ]
           ]
          },
          "colorway": [
           "#636efa",
           "#EF553B",
           "#00cc96",
           "#ab63fa",
           "#FFA15A",
           "#19d3f3",
           "#FF6692",
           "#B6E880",
           "#FF97FF",
           "#FECB52"
          ],
          "font": {
           "color": "#2a3f5f"
          },
          "geo": {
           "bgcolor": "white",
           "lakecolor": "white",
           "landcolor": "#E5ECF6",
           "showlakes": true,
           "showland": true,
           "subunitcolor": "white"
          },
          "hoverlabel": {
           "align": "left"
          },
          "hovermode": "closest",
          "mapbox": {
           "style": "light"
          },
          "paper_bgcolor": "white",
          "plot_bgcolor": "#E5ECF6",
          "polar": {
           "angularaxis": {
            "gridcolor": "white",
            "linecolor": "white",
            "ticks": ""
           },
           "bgcolor": "#E5ECF6",
           "radialaxis": {
            "gridcolor": "white",
            "linecolor": "white",
            "ticks": ""
           }
          },
          "scene": {
           "xaxis": {
            "backgroundcolor": "#E5ECF6",
            "gridcolor": "white",
            "gridwidth": 2,
            "linecolor": "white",
            "showbackground": true,
            "ticks": "",
            "zerolinecolor": "white"
           },
           "yaxis": {
            "backgroundcolor": "#E5ECF6",
            "gridcolor": "white",
            "gridwidth": 2,
            "linecolor": "white",
            "showbackground": true,
            "ticks": "",
            "zerolinecolor": "white"
           },
           "zaxis": {
            "backgroundcolor": "#E5ECF6",
            "gridcolor": "white",
            "gridwidth": 2,
            "linecolor": "white",
            "showbackground": true,
            "ticks": "",
            "zerolinecolor": "white"
           }
          },
          "shapedefaults": {
           "line": {
            "color": "#2a3f5f"
           }
          },
          "ternary": {
           "aaxis": {
            "gridcolor": "white",
            "linecolor": "white",
            "ticks": ""
           },
           "baxis": {
            "gridcolor": "white",
            "linecolor": "white",
            "ticks": ""
           },
           "bgcolor": "#E5ECF6",
           "caxis": {
            "gridcolor": "white",
            "linecolor": "white",
            "ticks": ""
           }
          },
          "title": {
           "x": 0.05
          },
          "xaxis": {
           "automargin": true,
           "gridcolor": "white",
           "linecolor": "white",
           "ticks": "",
           "title": {
            "standoff": 15
           },
           "zerolinecolor": "white",
           "zerolinewidth": 2
          },
          "yaxis": {
           "automargin": true,
           "gridcolor": "white",
           "linecolor": "white",
           "ticks": "",
           "title": {
            "standoff": 15
           },
           "zerolinecolor": "white",
           "zerolinewidth": 2
          }
         }
        },
        "width": 950,
        "xaxis": {
         "showgrid": false,
         "visible": false,
         "zeroline": false
        },
        "yaxis": {
         "showgrid": false,
         "visible": false,
         "zeroline": false
        }
       }
      }
     },
     "metadata": {},
     "output_type": "display_data"
    },
    {
     "name": "stdout",
     "output_type": "stream",
     "text": [
      "['category', 'id', 'label', 'x', 'y', 'z'] [3, 4, 'Face_39', 10.0, -5.0, -10.0]\n",
      "['category', 'id', 'label', 'x', 'y', 'z'] [3, 3, 'Face_40', 10.0, -10.0, -5.0]\n",
      "['category', 'id', 'label', 'x', 'y', 'z'] [3, 5, 'Face_41', 15.0, -5.0, -5.0]\n",
      "['category', 'id', 'label', 'x', 'y', 'z'] [3, 7, 'Face_43', 0.0, -10.0, 5.0]\n",
      "['category', 'id', 'label', 'x', 'y', 'z'] [3, 9, 'Face_44', -0.0, -5.0, 10.0]\n",
      "['category', 'id', 'label', 'x', 'y', 'z'] [3, 11, 'Face_46', 10.0, 5.0, 10.0]\n",
      "['category', 'id', 'label', 'x', 'y', 'z'] [3, 12, 'Face_47', 10.0, 10.0, 5.0]\n",
      "['category', 'id', 'label', 'x', 'y', 'z'] [3, 13, 'Face_8', -15.0, -5.0, -5.0]\n",
      "['category', 'id', 'label', 'x', 'y', 'z'] [3, 14, 'Face_7', -10.0, -5.0, -10.0]\n",
      "['category', 'id', 'label', 'x', 'y', 'z'] [3, 15, 'Face_9', -10.0, -10.0, -5.0]\n",
      "['category', 'id', 'label', 'x', 'y', 'z'] [3, 2, 'Face_36', 0.0, 10.0, 5.0]\n",
      "['category', 'id', 'label', 'x', 'y', 'z'] [3, 1, 'Face_35', -0.0, 5.0, 10.0]\n",
      "['category', 'id', 'label', 'x', 'y', 'z'] [3, 24, 'Face_12', -0.0, 5.0, -10.0]\n",
      "['category', 'id', 'label', 'x', 'y', 'z'] [0, 59, 'Cell_6', -10.0, -5.0, 5.0]\n",
      "['category', 'id', 'label', 'x', 'y', 'z'] [3, 45, 'Face_30', 10.0, 5.0, -10.0]\n",
      "['category', 'id', 'label', 'x', 'y', 'z'] [3, 29, 'Face_17', -15.0, 5.0, 5.0]\n",
      "['category', 'id', 'label', 'x', 'y', 'z'] [3, 51, 'Face_50', 10.0, -10.0, 5.0]\n",
      "['category', 'id', 'label', 'x', 'y', 'z'] [3, 42, 'Face_29', -10.0, -5.0, 10.0]\n",
      "['category', 'id', 'label', 'x', 'y', 'z'] [0, 56, 'Cell_3', 0.0, 5.0, -5.0]\n",
      "['category', 'id', 'label', 'x', 'y', 'z'] [0, 55, 'Cell_2', -10.0, -5.0, -5.0]\n",
      "['category', 'id', 'label', 'x', 'y', 'z'] [3, 37, 'Face_23', 0.0, -10.0, -5.0]\n",
      "['category', 'id', 'label', 'x', 'y', 'z'] [3, 46, 'Face_33', 10.0, 10.0, -5.0]\n",
      "['category', 'id', 'label', 'x', 'y', 'z'] [0, 62, 'Cell_10', 0.0, -5.0, 5.0]\n",
      "['category', 'id', 'label', 'x', 'y', 'z'] [0, 63, 'Cell_9', 10.0, -5.0, -5.0]\n",
      "['category', 'id', 'label', 'x', 'y', 'z'] [3, 25, 'Face_15', 0.0, 10.0, -5.0]\n",
      "['category', 'id', 'label', 'x', 'y', 'z'] [3, 38, 'Face_22', -0.0, -5.0, -10.0]\n",
      "['category', 'id', 'label', 'x', 'y', 'z'] [0, 48, 'Cell_12', 10.0, -5.0, 5.0]\n",
      "['category', 'id', 'label', 'x', 'y', 'z'] [0, 49, 'Cell_11', 10.0, 5.0, 5.0]\n",
      "['category', 'id', 'label', 'x', 'y', 'z'] [3, 50, 'Face_49', 15.0, 5.0, 5.0]\n",
      "['category', 'id', 'label', 'x', 'y', 'z'] [0, 52, 'Cell_1', -10.0, 5.0, -5.0]\n",
      "['category', 'id', 'label', 'x', 'y', 'z'] [0, 58, 'Cell_5', -0.0, -5.0, -5.0]\n",
      "['category', 'id', 'label', 'x', 'y', 'z'] [3, 41, 'Face_27', -15.0, -5.0, 5.0]\n",
      "['category', 'id', 'label', 'x', 'y', 'z'] [3, 40, 'Face_26', -10.0, -10.0, 5.0]\n",
      "['category', 'id', 'label', 'x', 'y', 'z'] [3, 19, 'Face_1', -10.0, 5.0, -10.0]\n",
      "['category', 'id', 'label', 'x', 'y', 'z'] [3, 28, 'Face_18', -10.0, 10.0, 5.0]\n",
      "['category', 'id', 'label', 'x', 'y', 'z'] [3, 30, 'Face_19', -10.0, 5.0, 10.0]\n",
      "['category', 'id', 'label', 'x', 'y', 'z'] [3, 47, 'Face_32', 15.0, 5.0, -5.0]\n",
      "['category', 'id', 'label', 'x', 'y', 'z'] [3, 22, 'Face_5', -10.0, 10.0, -5.0]\n",
      "['category', 'id', 'label', 'x', 'y', 'z'] [3, 53, 'Face_51', 10.0, -5.0, 10.0]\n",
      "['category', 'id', 'label', 'x', 'y', 'z'] [3, 54, 'Face_52', 15.0, -5.0, 5.0]\n",
      "['category', 'id', 'label', 'x', 'y', 'z'] [0, 60, 'Cell_7', 10.0, 5.0, -5.0]\n",
      "['category', 'id', 'label', 'x', 'y', 'z'] [3, 21, 'Face_2', -15.0, 5.0, -5.0]\n",
      "['category', 'id', 'label', 'x', 'y', 'z'] [0, 57, 'Cell_4', -10.0, 5.0, 5.0]\n",
      "['category', 'id', 'label', 'x', 'y', 'z'] [0, 61, 'Cell_8', 0.0, 5.0, 5.0]\n"
     ]
    }
   ],
   "source": [
    "cypher=\"MATCH (a)-[r:To_Exterior_Topologies]->(b) RETURN a,r,b\"\n",
    "t_graph = Neo4j.ExportToGraph(n_graph, cypher=cypher)\n",
    "Graph.Show(t_graph, vertexGroupKey=\"category\", vertexGroups=[0,1,3], vertexSize=12, vertexLabelKey=\"label\", edgeLabelKey=\"relationship\", colorScale=\"thermal_r\")\n",
    "vertices = Graph.Vertices(t_graph)\n",
    "for v in vertices:\n",
    "    d = Topology.Dictionary(v)\n",
    "    print(Dictionary.Keys(d), Dictionary.Values(d))"
   ]
  },
  {
   "cell_type": "code",
   "execution_count": 10,
   "metadata": {},
   "outputs": [
    {
     "data": {
      "application/vnd.plotly.v1+json": {
       "config": {
        "plotlyServerURL": "https://plot.ly"
       },
       "data": [
        {
         "hoverinfo": "text",
         "legendgroup": "4",
         "legendrank": 4,
         "marker": {
          "cmax": 1,
          "cmin": 0,
          "color": [
           0.25,
           0.25,
           0.25,
           0.25,
           0.25,
           0,
           0.25,
           0,
           0.25,
           0,
           0,
           0,
           0.25,
           0.25,
           0,
           0,
           0,
           0.25,
           0,
           0.25,
           0,
           0.25,
           0.25,
           0.25,
           0.25,
           0,
           0.25,
           0.25,
           0,
           0.25,
           0.25,
           0.25
          ],
          "colorscale": [
           [
            0,
            "rgb(231, 250, 90)"
           ],
           [
            0.09090909090909091,
            "rgb(246, 211, 70)"
           ],
           [
            0.18181818181818182,
            "rgb(251, 173, 60)"
           ],
           [
            0.2727272727272727,
            "rgb(246, 139, 69)"
           ],
           [
            0.36363636363636365,
            "rgb(225, 113, 97)"
           ],
           [
            0.45454545454545453,
            "rgb(193, 100, 121)"
           ],
           [
            0.5454545454545454,
            "rgb(158, 89, 135)"
           ],
           [
            0.6363636363636364,
            "rgb(126, 77, 143)"
           ],
           [
            0.7272727272727273,
            "rgb(93, 62, 153)"
           ],
           [
            0.8181818181818182,
            "rgb(53, 50, 155)"
           ],
           [
            0.9090909090909091,
            "rgb(13, 48, 100)"
           ],
           [
            1,
            "rgb(3, 35, 51)"
           ]
          ],
          "line": {
           "color": "black",
           "width": 0.5
          },
          "size": 12,
          "symbol": "circle"
         },
         "mode": "markers",
         "name": "Graph Vertices",
         "showlegend": false,
         "text": [
          "Face_42",
          "Face_38",
          "Face_45",
          "Face_48",
          "Face_34",
          "Cell_1",
          "Face_37",
          "Cell_11",
          "Face_13",
          "Cell_5",
          "Cell_7",
          "Cell_4",
          "Face_10",
          "Face_24",
          "Cell_12",
          "Cell_6",
          "Cell_2",
          "Face_16",
          "Cell_3",
          "Face_20",
          "Cell_8",
          "Face_3",
          "Face_6",
          "Face_25",
          "Face_21",
          "Cell_10",
          "Face_28",
          "Face_11",
          "Cell_9",
          "Face_31",
          "Face_14",
          "Face_4"
         ],
         "type": "scatter3d",
         "x": [
          10,
          5,
          5,
          10,
          10,
          -10,
          0,
          10,
          0,
          0,
          10,
          -10,
          -5,
          5,
          10,
          -10,
          -10,
          0,
          0,
          -10,
          0,
          -10,
          -10,
          0,
          -5,
          0,
          -5,
          -10,
          10,
          10,
          5,
          -5
         ],
         "y": [
          -5,
          5,
          -5,
          0,
          5,
          5,
          0,
          5,
          0,
          -5,
          5,
          5,
          -5,
          -5,
          -5,
          -5,
          -5,
          5,
          5,
          0,
          5,
          0,
          5,
          -5,
          5,
          -5,
          -5,
          -5,
          -5,
          0,
          5,
          5
         ],
         "z": [
          0,
          5,
          5,
          5,
          0,
          -5,
          5,
          5,
          -5,
          -5,
          -5,
          5,
          -5,
          -5,
          5,
          5,
          -5,
          0,
          -5,
          5,
          5,
          -5,
          0,
          0,
          5,
          5,
          5,
          0,
          -5,
          -5,
          -5,
          -5
         ]
        },
        {
         "hoverinfo": "text",
         "legendgroup": "5",
         "legendrank": 5,
         "line": {
          "color": "black",
          "width": 1
         },
         "mode": "lines",
         "name": "Graph Edges",
         "showlegend": false,
         "text": [
          "Via_Shared_Topologies",
          "Via_Shared_Topologies",
          "Via_Shared_Topologies",
          "Via_Shared_Topologies",
          "Via_Shared_Topologies",
          "Via_Shared_Topologies",
          "Via_Shared_Topologies",
          "Via_Shared_Topologies",
          "Via_Shared_Topologies",
          "Via_Shared_Topologies",
          "Via_Shared_Topologies",
          "Via_Shared_Topologies",
          "Via_Shared_Topologies",
          "Via_Shared_Topologies",
          "Via_Shared_Topologies",
          "Via_Shared_Topologies",
          "Via_Shared_Topologies",
          "Via_Shared_Topologies",
          "Via_Shared_Topologies",
          "Via_Shared_Topologies",
          "Via_Shared_Topologies",
          "Via_Shared_Topologies",
          "Via_Shared_Topologies",
          "Via_Shared_Topologies",
          "Via_Shared_Topologies",
          "Via_Shared_Topologies",
          "Via_Shared_Topologies",
          "Via_Shared_Topologies",
          "Via_Shared_Topologies",
          "Via_Shared_Topologies",
          "Via_Shared_Topologies",
          "Via_Shared_Topologies",
          "Via_Shared_Topologies",
          "Via_Shared_Topologies",
          "Via_Shared_Topologies",
          "Via_Shared_Topologies",
          "Via_Shared_Topologies",
          "Via_Shared_Topologies",
          "Via_Shared_Topologies",
          "Via_Shared_Topologies"
         ],
         "type": "scatter3d",
         "x": [
          10,
          10,
          null,
          10,
          10,
          null,
          5,
          10,
          null,
          5,
          0,
          null,
          5,
          10,
          null,
          5,
          0,
          null,
          10,
          10,
          null,
          10,
          10,
          null,
          10,
          10,
          null,
          10,
          10,
          null,
          -5,
          -10,
          null,
          -10,
          -10,
          null,
          -10,
          -10,
          null,
          0,
          0,
          null,
          0,
          0,
          null,
          0,
          0,
          null,
          0,
          0,
          null,
          5,
          0,
          null,
          0,
          0,
          null,
          -5,
          0,
          null,
          10,
          10,
          null,
          5,
          10,
          null,
          -5,
          -10,
          null,
          -10,
          -10,
          null,
          -10,
          -10,
          null,
          -5,
          -10,
          null,
          5,
          10,
          null,
          -5,
          -10,
          null,
          -10,
          -10,
          null,
          -10,
          -10,
          null,
          -10,
          -10,
          null,
          -10,
          -10,
          null,
          0,
          0,
          null,
          0,
          0,
          null,
          -5,
          0,
          null,
          5,
          0,
          null,
          -5,
          0,
          null,
          0,
          0,
          null,
          -5,
          0,
          null,
          10,
          10,
          null
         ],
         "y": [
          -5,
          -5,
          null,
          -5,
          -5,
          null,
          5,
          5,
          null,
          5,
          5,
          null,
          -5,
          -5,
          null,
          -5,
          -5,
          null,
          0,
          5,
          null,
          0,
          -5,
          null,
          5,
          5,
          null,
          5,
          5,
          null,
          5,
          5,
          null,
          0,
          5,
          null,
          5,
          5,
          null,
          0,
          -5,
          null,
          0,
          5,
          null,
          0,
          -5,
          null,
          0,
          5,
          null,
          -5,
          -5,
          null,
          -5,
          -5,
          null,
          -5,
          -5,
          null,
          0,
          5,
          null,
          5,
          5,
          null,
          5,
          5,
          null,
          0,
          5,
          null,
          5,
          5,
          null,
          -5,
          -5,
          null,
          -5,
          -5,
          null,
          -5,
          -5,
          null,
          0,
          -5,
          null,
          -5,
          -5,
          null,
          0,
          -5,
          null,
          -5,
          -5,
          null,
          5,
          5,
          null,
          5,
          5,
          null,
          5,
          5,
          null,
          5,
          5,
          null,
          5,
          5,
          null,
          -5,
          -5,
          null,
          -5,
          -5,
          null,
          0,
          -5,
          null
         ],
         "z": [
          0,
          -5,
          null,
          0,
          5,
          null,
          5,
          5,
          null,
          5,
          5,
          null,
          5,
          5,
          null,
          5,
          5,
          null,
          5,
          5,
          null,
          5,
          5,
          null,
          0,
          5,
          null,
          0,
          -5,
          null,
          -5,
          -5,
          null,
          -5,
          -5,
          null,
          0,
          -5,
          null,
          5,
          5,
          null,
          5,
          5,
          null,
          -5,
          -5,
          null,
          -5,
          -5,
          null,
          -5,
          -5,
          null,
          0,
          -5,
          null,
          -5,
          -5,
          null,
          -5,
          -5,
          null,
          -5,
          -5,
          null,
          5,
          5,
          null,
          5,
          5,
          null,
          0,
          5,
          null,
          -5,
          -5,
          null,
          -5,
          -5,
          null,
          5,
          5,
          null,
          5,
          5,
          null,
          0,
          5,
          null,
          -5,
          -5,
          null,
          0,
          -5,
          null,
          0,
          -5,
          null,
          0,
          5,
          null,
          -5,
          -5,
          null,
          -5,
          -5,
          null,
          5,
          5,
          null,
          0,
          5,
          null,
          5,
          5,
          null,
          -5,
          -5,
          null
         ]
        }
       ],
       "layout": {
        "autosize": true,
        "height": 500,
        "margin": {
         "b": 40,
         "l": 40,
         "r": 40,
         "t": 40
        },
        "paper_bgcolor": "rgba(0,0,0,0)",
        "plot_bgcolor": "rgba(0,0,0,0)",
        "scene": {
         "aspectmode": "data",
         "camera": {
          "center": {
           "x": 0,
           "y": 0,
           "z": 0
          },
          "eye": {
           "x": -1.25,
           "y": -1.25,
           "z": 1.25
          },
          "projection": {
           "type": "perspective"
          },
          "up": {
           "x": 0,
           "y": 0,
           "z": 1
          }
         },
         "xaxis": {
          "visible": false
         },
         "yaxis": {
          "visible": false
         },
         "zaxis": {
          "visible": false
         }
        },
        "showlegend": true,
        "template": {
         "data": {
          "bar": [
           {
            "error_x": {
             "color": "#2a3f5f"
            },
            "error_y": {
             "color": "#2a3f5f"
            },
            "marker": {
             "line": {
              "color": "#E5ECF6",
              "width": 0.5
             },
             "pattern": {
              "fillmode": "overlay",
              "size": 10,
              "solidity": 0.2
             }
            },
            "type": "bar"
           }
          ],
          "barpolar": [
           {
            "marker": {
             "line": {
              "color": "#E5ECF6",
              "width": 0.5
             },
             "pattern": {
              "fillmode": "overlay",
              "size": 10,
              "solidity": 0.2
             }
            },
            "type": "barpolar"
           }
          ],
          "carpet": [
           {
            "aaxis": {
             "endlinecolor": "#2a3f5f",
             "gridcolor": "white",
             "linecolor": "white",
             "minorgridcolor": "white",
             "startlinecolor": "#2a3f5f"
            },
            "baxis": {
             "endlinecolor": "#2a3f5f",
             "gridcolor": "white",
             "linecolor": "white",
             "minorgridcolor": "white",
             "startlinecolor": "#2a3f5f"
            },
            "type": "carpet"
           }
          ],
          "choropleth": [
           {
            "colorbar": {
             "outlinewidth": 0,
             "ticks": ""
            },
            "type": "choropleth"
           }
          ],
          "contour": [
           {
            "colorbar": {
             "outlinewidth": 0,
             "ticks": ""
            },
            "colorscale": [
             [
              0,
              "#0d0887"
             ],
             [
              0.1111111111111111,
              "#46039f"
             ],
             [
              0.2222222222222222,
              "#7201a8"
             ],
             [
              0.3333333333333333,
              "#9c179e"
             ],
             [
              0.4444444444444444,
              "#bd3786"
             ],
             [
              0.5555555555555556,
              "#d8576b"
             ],
             [
              0.6666666666666666,
              "#ed7953"
             ],
             [
              0.7777777777777778,
              "#fb9f3a"
             ],
             [
              0.8888888888888888,
              "#fdca26"
             ],
             [
              1,
              "#f0f921"
             ]
            ],
            "type": "contour"
           }
          ],
          "contourcarpet": [
           {
            "colorbar": {
             "outlinewidth": 0,
             "ticks": ""
            },
            "type": "contourcarpet"
           }
          ],
          "heatmap": [
           {
            "colorbar": {
             "outlinewidth": 0,
             "ticks": ""
            },
            "colorscale": [
             [
              0,
              "#0d0887"
             ],
             [
              0.1111111111111111,
              "#46039f"
             ],
             [
              0.2222222222222222,
              "#7201a8"
             ],
             [
              0.3333333333333333,
              "#9c179e"
             ],
             [
              0.4444444444444444,
              "#bd3786"
             ],
             [
              0.5555555555555556,
              "#d8576b"
             ],
             [
              0.6666666666666666,
              "#ed7953"
             ],
             [
              0.7777777777777778,
              "#fb9f3a"
             ],
             [
              0.8888888888888888,
              "#fdca26"
             ],
             [
              1,
              "#f0f921"
             ]
            ],
            "type": "heatmap"
           }
          ],
          "heatmapgl": [
           {
            "colorbar": {
             "outlinewidth": 0,
             "ticks": ""
            },
            "colorscale": [
             [
              0,
              "#0d0887"
             ],
             [
              0.1111111111111111,
              "#46039f"
             ],
             [
              0.2222222222222222,
              "#7201a8"
             ],
             [
              0.3333333333333333,
              "#9c179e"
             ],
             [
              0.4444444444444444,
              "#bd3786"
             ],
             [
              0.5555555555555556,
              "#d8576b"
             ],
             [
              0.6666666666666666,
              "#ed7953"
             ],
             [
              0.7777777777777778,
              "#fb9f3a"
             ],
             [
              0.8888888888888888,
              "#fdca26"
             ],
             [
              1,
              "#f0f921"
             ]
            ],
            "type": "heatmapgl"
           }
          ],
          "histogram": [
           {
            "marker": {
             "pattern": {
              "fillmode": "overlay",
              "size": 10,
              "solidity": 0.2
             }
            },
            "type": "histogram"
           }
          ],
          "histogram2d": [
           {
            "colorbar": {
             "outlinewidth": 0,
             "ticks": ""
            },
            "colorscale": [
             [
              0,
              "#0d0887"
             ],
             [
              0.1111111111111111,
              "#46039f"
             ],
             [
              0.2222222222222222,
              "#7201a8"
             ],
             [
              0.3333333333333333,
              "#9c179e"
             ],
             [
              0.4444444444444444,
              "#bd3786"
             ],
             [
              0.5555555555555556,
              "#d8576b"
             ],
             [
              0.6666666666666666,
              "#ed7953"
             ],
             [
              0.7777777777777778,
              "#fb9f3a"
             ],
             [
              0.8888888888888888,
              "#fdca26"
             ],
             [
              1,
              "#f0f921"
             ]
            ],
            "type": "histogram2d"
           }
          ],
          "histogram2dcontour": [
           {
            "colorbar": {
             "outlinewidth": 0,
             "ticks": ""
            },
            "colorscale": [
             [
              0,
              "#0d0887"
             ],
             [
              0.1111111111111111,
              "#46039f"
             ],
             [
              0.2222222222222222,
              "#7201a8"
             ],
             [
              0.3333333333333333,
              "#9c179e"
             ],
             [
              0.4444444444444444,
              "#bd3786"
             ],
             [
              0.5555555555555556,
              "#d8576b"
             ],
             [
              0.6666666666666666,
              "#ed7953"
             ],
             [
              0.7777777777777778,
              "#fb9f3a"
             ],
             [
              0.8888888888888888,
              "#fdca26"
             ],
             [
              1,
              "#f0f921"
             ]
            ],
            "type": "histogram2dcontour"
           }
          ],
          "mesh3d": [
           {
            "colorbar": {
             "outlinewidth": 0,
             "ticks": ""
            },
            "type": "mesh3d"
           }
          ],
          "parcoords": [
           {
            "line": {
             "colorbar": {
              "outlinewidth": 0,
              "ticks": ""
             }
            },
            "type": "parcoords"
           }
          ],
          "pie": [
           {
            "automargin": true,
            "type": "pie"
           }
          ],
          "scatter": [
           {
            "fillpattern": {
             "fillmode": "overlay",
             "size": 10,
             "solidity": 0.2
            },
            "type": "scatter"
           }
          ],
          "scatter3d": [
           {
            "line": {
             "colorbar": {
              "outlinewidth": 0,
              "ticks": ""
             }
            },
            "marker": {
             "colorbar": {
              "outlinewidth": 0,
              "ticks": ""
             }
            },
            "type": "scatter3d"
           }
          ],
          "scattercarpet": [
           {
            "marker": {
             "colorbar": {
              "outlinewidth": 0,
              "ticks": ""
             }
            },
            "type": "scattercarpet"
           }
          ],
          "scattergeo": [
           {
            "marker": {
             "colorbar": {
              "outlinewidth": 0,
              "ticks": ""
             }
            },
            "type": "scattergeo"
           }
          ],
          "scattergl": [
           {
            "marker": {
             "colorbar": {
              "outlinewidth": 0,
              "ticks": ""
             }
            },
            "type": "scattergl"
           }
          ],
          "scattermapbox": [
           {
            "marker": {
             "colorbar": {
              "outlinewidth": 0,
              "ticks": ""
             }
            },
            "type": "scattermapbox"
           }
          ],
          "scatterpolar": [
           {
            "marker": {
             "colorbar": {
              "outlinewidth": 0,
              "ticks": ""
             }
            },
            "type": "scatterpolar"
           }
          ],
          "scatterpolargl": [
           {
            "marker": {
             "colorbar": {
              "outlinewidth": 0,
              "ticks": ""
             }
            },
            "type": "scatterpolargl"
           }
          ],
          "scatterternary": [
           {
            "marker": {
             "colorbar": {
              "outlinewidth": 0,
              "ticks": ""
             }
            },
            "type": "scatterternary"
           }
          ],
          "surface": [
           {
            "colorbar": {
             "outlinewidth": 0,
             "ticks": ""
            },
            "colorscale": [
             [
              0,
              "#0d0887"
             ],
             [
              0.1111111111111111,
              "#46039f"
             ],
             [
              0.2222222222222222,
              "#7201a8"
             ],
             [
              0.3333333333333333,
              "#9c179e"
             ],
             [
              0.4444444444444444,
              "#bd3786"
             ],
             [
              0.5555555555555556,
              "#d8576b"
             ],
             [
              0.6666666666666666,
              "#ed7953"
             ],
             [
              0.7777777777777778,
              "#fb9f3a"
             ],
             [
              0.8888888888888888,
              "#fdca26"
             ],
             [
              1,
              "#f0f921"
             ]
            ],
            "type": "surface"
           }
          ],
          "table": [
           {
            "cells": {
             "fill": {
              "color": "#EBF0F8"
             },
             "line": {
              "color": "white"
             }
            },
            "header": {
             "fill": {
              "color": "#C8D4E3"
             },
             "line": {
              "color": "white"
             }
            },
            "type": "table"
           }
          ]
         },
         "layout": {
          "annotationdefaults": {
           "arrowcolor": "#2a3f5f",
           "arrowhead": 0,
           "arrowwidth": 1
          },
          "autotypenumbers": "strict",
          "coloraxis": {
           "colorbar": {
            "outlinewidth": 0,
            "ticks": ""
           }
          },
          "colorscale": {
           "diverging": [
            [
             0,
             "#8e0152"
            ],
            [
             0.1,
             "#c51b7d"
            ],
            [
             0.2,
             "#de77ae"
            ],
            [
             0.3,
             "#f1b6da"
            ],
            [
             0.4,
             "#fde0ef"
            ],
            [
             0.5,
             "#f7f7f7"
            ],
            [
             0.6,
             "#e6f5d0"
            ],
            [
             0.7,
             "#b8e186"
            ],
            [
             0.8,
             "#7fbc41"
            ],
            [
             0.9,
             "#4d9221"
            ],
            [
             1,
             "#276419"
            ]
           ],
           "sequential": [
            [
             0,
             "#0d0887"
            ],
            [
             0.1111111111111111,
             "#46039f"
            ],
            [
             0.2222222222222222,
             "#7201a8"
            ],
            [
             0.3333333333333333,
             "#9c179e"
            ],
            [
             0.4444444444444444,
             "#bd3786"
            ],
            [
             0.5555555555555556,
             "#d8576b"
            ],
            [
             0.6666666666666666,
             "#ed7953"
            ],
            [
             0.7777777777777778,
             "#fb9f3a"
            ],
            [
             0.8888888888888888,
             "#fdca26"
            ],
            [
             1,
             "#f0f921"
            ]
           ],
           "sequentialminus": [
            [
             0,
             "#0d0887"
            ],
            [
             0.1111111111111111,
             "#46039f"
            ],
            [
             0.2222222222222222,
             "#7201a8"
            ],
            [
             0.3333333333333333,
             "#9c179e"
            ],
            [
             0.4444444444444444,
             "#bd3786"
            ],
            [
             0.5555555555555556,
             "#d8576b"
            ],
            [
             0.6666666666666666,
             "#ed7953"
            ],
            [
             0.7777777777777778,
             "#fb9f3a"
            ],
            [
             0.8888888888888888,
             "#fdca26"
            ],
            [
             1,
             "#f0f921"
            ]
           ]
          },
          "colorway": [
           "#636efa",
           "#EF553B",
           "#00cc96",
           "#ab63fa",
           "#FFA15A",
           "#19d3f3",
           "#FF6692",
           "#B6E880",
           "#FF97FF",
           "#FECB52"
          ],
          "font": {
           "color": "#2a3f5f"
          },
          "geo": {
           "bgcolor": "white",
           "lakecolor": "white",
           "landcolor": "#E5ECF6",
           "showlakes": true,
           "showland": true,
           "subunitcolor": "white"
          },
          "hoverlabel": {
           "align": "left"
          },
          "hovermode": "closest",
          "mapbox": {
           "style": "light"
          },
          "paper_bgcolor": "white",
          "plot_bgcolor": "#E5ECF6",
          "polar": {
           "angularaxis": {
            "gridcolor": "white",
            "linecolor": "white",
            "ticks": ""
           },
           "bgcolor": "#E5ECF6",
           "radialaxis": {
            "gridcolor": "white",
            "linecolor": "white",
            "ticks": ""
           }
          },
          "scene": {
           "xaxis": {
            "backgroundcolor": "#E5ECF6",
            "gridcolor": "white",
            "gridwidth": 2,
            "linecolor": "white",
            "showbackground": true,
            "ticks": "",
            "zerolinecolor": "white"
           },
           "yaxis": {
            "backgroundcolor": "#E5ECF6",
            "gridcolor": "white",
            "gridwidth": 2,
            "linecolor": "white",
            "showbackground": true,
            "ticks": "",
            "zerolinecolor": "white"
           },
           "zaxis": {
            "backgroundcolor": "#E5ECF6",
            "gridcolor": "white",
            "gridwidth": 2,
            "linecolor": "white",
            "showbackground": true,
            "ticks": "",
            "zerolinecolor": "white"
           }
          },
          "shapedefaults": {
           "line": {
            "color": "#2a3f5f"
           }
          },
          "ternary": {
           "aaxis": {
            "gridcolor": "white",
            "linecolor": "white",
            "ticks": ""
           },
           "baxis": {
            "gridcolor": "white",
            "linecolor": "white",
            "ticks": ""
           },
           "bgcolor": "#E5ECF6",
           "caxis": {
            "gridcolor": "white",
            "linecolor": "white",
            "ticks": ""
           }
          },
          "title": {
           "x": 0.05
          },
          "xaxis": {
           "automargin": true,
           "gridcolor": "white",
           "linecolor": "white",
           "ticks": "",
           "title": {
            "standoff": 15
           },
           "zerolinecolor": "white",
           "zerolinewidth": 2
          },
          "yaxis": {
           "automargin": true,
           "gridcolor": "white",
           "linecolor": "white",
           "ticks": "",
           "title": {
            "standoff": 15
           },
           "zerolinecolor": "white",
           "zerolinewidth": 2
          }
         }
        },
        "width": 950,
        "xaxis": {
         "showgrid": false,
         "visible": false,
         "zeroline": false
        },
        "yaxis": {
         "showgrid": false,
         "visible": false,
         "zeroline": false
        }
       }
      }
     },
     "metadata": {},
     "output_type": "display_data"
    },
    {
     "name": "stdout",
     "output_type": "stream",
     "text": [
      "['category', 'id', 'label', 'x', 'y', 'z'] [1, 6, 'Face_42', 10.0, -5.0, 0.0]\n",
      "['category', 'id', 'label', 'x', 'y', 'z'] [1, 0, 'Face_38', 5.0, 5.0, 5.0]\n",
      "['category', 'id', 'label', 'x', 'y', 'z'] [1, 8, 'Face_45', 5.0, -5.0, 5.0]\n",
      "['category', 'id', 'label', 'x', 'y', 'z'] [1, 10, 'Face_48', 10.0, 0.0, 5.0]\n",
      "['category', 'id', 'label', 'x', 'y', 'z'] [1, 43, 'Face_34', 10.0, 5.0, -0.0]\n",
      "['category', 'id', 'label', 'x', 'y', 'z'] [0, 52, 'Cell_1', -10.0, 5.0, -5.0]\n",
      "['category', 'id', 'label', 'x', 'y', 'z'] [1, 34, 'Face_37', -0.0, 0.0, 5.0]\n",
      "['category', 'id', 'label', 'x', 'y', 'z'] [0, 49, 'Cell_11', 10.0, 5.0, 5.0]\n",
      "['category', 'id', 'label', 'x', 'y', 'z'] [1, 33, 'Face_13', -0.0, 0.0, -5.0]\n",
      "['category', 'id', 'label', 'x', 'y', 'z'] [0, 58, 'Cell_5', -0.0, -5.0, -5.0]\n",
      "['category', 'id', 'label', 'x', 'y', 'z'] [0, 60, 'Cell_7', 10.0, 5.0, -5.0]\n",
      "['category', 'id', 'label', 'x', 'y', 'z'] [0, 57, 'Cell_4', -10.0, 5.0, 5.0]\n",
      "['category', 'id', 'label', 'x', 'y', 'z'] [1, 23, 'Face_10', -5.0, -5.0, -5.0]\n",
      "['category', 'id', 'label', 'x', 'y', 'z'] [1, 36, 'Face_24', 5.0, -5.0, -5.0]\n",
      "['category', 'id', 'label', 'x', 'y', 'z'] [0, 48, 'Cell_12', 10.0, -5.0, 5.0]\n",
      "['category', 'id', 'label', 'x', 'y', 'z'] [0, 59, 'Cell_6', -10.0, -5.0, 5.0]\n",
      "['category', 'id', 'label', 'x', 'y', 'z'] [0, 55, 'Cell_2', -10.0, -5.0, -5.0]\n",
      "['category', 'id', 'label', 'x', 'y', 'z'] [1, 31, 'Face_16', -0.0, 5.0, -0.0]\n",
      "['category', 'id', 'label', 'x', 'y', 'z'] [0, 56, 'Cell_3', 0.0, 5.0, -5.0]\n",
      "['category', 'id', 'label', 'x', 'y', 'z'] [1, 26, 'Face_20', -10.0, 0.0, 5.0]\n",
      "['category', 'id', 'label', 'x', 'y', 'z'] [0, 61, 'Cell_8', 0.0, 5.0, 5.0]\n",
      "['category', 'id', 'label', 'x', 'y', 'z'] [1, 20, 'Face_3', -10.0, 0.0, -5.0]\n",
      "['category', 'id', 'label', 'x', 'y', 'z'] [1, 17, 'Face_6', -10.0, 5.0, 0.0]\n",
      "['category', 'id', 'label', 'x', 'y', 'z'] [1, 35, 'Face_25', -0.0, -5.0, 0.0]\n",
      "['category', 'id', 'label', 'x', 'y', 'z'] [1, 27, 'Face_21', -5.0, 5.0, 5.0]\n",
      "['category', 'id', 'label', 'x', 'y', 'z'] [0, 62, 'Cell_10', 0.0, -5.0, 5.0]\n",
      "['category', 'id', 'label', 'x', 'y', 'z'] [1, 39, 'Face_28', -5.0, -5.0, 5.0]\n",
      "['category', 'id', 'label', 'x', 'y', 'z'] [1, 16, 'Face_11', -10.0, -5.0, 0.0]\n",
      "['category', 'id', 'label', 'x', 'y', 'z'] [0, 63, 'Cell_9', 10.0, -5.0, -5.0]\n",
      "['category', 'id', 'label', 'x', 'y', 'z'] [1, 44, 'Face_31', 10.0, 0.0, -5.0]\n",
      "['category', 'id', 'label', 'x', 'y', 'z'] [1, 32, 'Face_14', 5.0, 5.0, -5.0]\n",
      "['category', 'id', 'label', 'x', 'y', 'z'] [1, 18, 'Face_4', -5.0, 5.0, -5.0]\n"
     ]
    }
   ],
   "source": [
    "cypher=\"MATCH (a)-[r:Via_Shared_Topologies]->(b) RETURN a,r,b\"\n",
    "t_graph = Neo4j.ExportToGraph(n_graph, cypher=cypher)\n",
    "Graph.Show(t_graph, vertexGroupKey=\"category\", vertexGroups=[0,1,2,3], vertexSize=12, vertexLabelKey=\"label\", edgeLabelKey=\"relationship\", colorScale=\"thermal_r\")\n",
    "vertices = Graph.Vertices(t_graph)\n",
    "for v in vertices:\n",
    "    d = Topology.Dictionary(v)\n",
    "    print(Dictionary.Keys(d), Dictionary.Values(d))"
   ]
  },
  {
   "cell_type": "markdown",
   "metadata": {},
   "source": [
    "### Step 9: Try another cypher query (only nodes, no edges)"
   ]
  },
  {
   "cell_type": "code",
   "execution_count": 11,
   "metadata": {},
   "outputs": [
    {
     "name": "stdout",
     "output_type": "stream",
     "text": [
      "['category', 'id', 'label', 'x', 'y', 'z'] [0, 48, 'Cell_12', 10.0, -5.0, 5.0]\n",
      "['category', 'id', 'label', 'x', 'y', 'z'] [0, 63, 'Cell_9', 10.0, -5.0, -5.0]\n",
      "['category', 'id', 'label', 'x', 'y', 'z'] [0, 59, 'Cell_6', -10.0, -5.0, 5.0]\n",
      "['category', 'id', 'label', 'x', 'y', 'z'] [0, 60, 'Cell_7', 10.0, 5.0, -5.0]\n",
      "['category', 'id', 'label', 'x', 'y', 'z'] [0, 49, 'Cell_11', 10.0, 5.0, 5.0]\n",
      "['category', 'id', 'label', 'x', 'y', 'z'] [0, 55, 'Cell_2', -10.0, -5.0, -5.0]\n",
      "['category', 'id', 'label', 'x', 'y', 'z'] [0, 52, 'Cell_1', -10.0, 5.0, -5.0]\n",
      "['category', 'id', 'label', 'x', 'y', 'z'] [0, 57, 'Cell_4', -10.0, 5.0, 5.0]\n",
      "['category', 'id', 'label', 'x', 'y', 'z'] [0, 56, 'Cell_3', 0.0, 5.0, -5.0]\n",
      "['category', 'id', 'label', 'x', 'y', 'z'] [0, 58, 'Cell_5', -0.0, -5.0, -5.0]\n",
      "['category', 'id', 'label', 'x', 'y', 'z'] [0, 61, 'Cell_8', 0.0, 5.0, 5.0]\n",
      "['category', 'id', 'label', 'x', 'y', 'z'] [0, 62, 'Cell_10', 0.0, -5.0, 5.0]\n"
     ]
    },
    {
     "data": {
      "application/vnd.plotly.v1+json": {
       "config": {
        "plotlyServerURL": "https://plot.ly"
       },
       "data": [
        {
         "hoverinfo": "text",
         "legendgroup": "4",
         "legendrank": 4,
         "marker": {
          "cmax": 1,
          "cmin": 0,
          "color": [
           0,
           0,
           0,
           0,
           0,
           0,
           0,
           0,
           0,
           0,
           0,
           0
          ],
          "colorscale": [
           [
            0,
            "rgb(231, 250, 90)"
           ],
           [
            0.09090909090909091,
            "rgb(246, 211, 70)"
           ],
           [
            0.18181818181818182,
            "rgb(251, 173, 60)"
           ],
           [
            0.2727272727272727,
            "rgb(246, 139, 69)"
           ],
           [
            0.36363636363636365,
            "rgb(225, 113, 97)"
           ],
           [
            0.45454545454545453,
            "rgb(193, 100, 121)"
           ],
           [
            0.5454545454545454,
            "rgb(158, 89, 135)"
           ],
           [
            0.6363636363636364,
            "rgb(126, 77, 143)"
           ],
           [
            0.7272727272727273,
            "rgb(93, 62, 153)"
           ],
           [
            0.8181818181818182,
            "rgb(53, 50, 155)"
           ],
           [
            0.9090909090909091,
            "rgb(13, 48, 100)"
           ],
           [
            1,
            "rgb(3, 35, 51)"
           ]
          ],
          "line": {
           "color": "black",
           "width": 0.5
          },
          "size": 12,
          "symbol": "circle"
         },
         "mode": "markers",
         "name": "Graph Vertices",
         "showlegend": false,
         "text": [
          "Cell_12",
          "Cell_9",
          "Cell_6",
          "Cell_7",
          "Cell_11",
          "Cell_2",
          "Cell_1",
          "Cell_4",
          "Cell_3",
          "Cell_5",
          "Cell_8",
          "Cell_10"
         ],
         "type": "scatter3d",
         "x": [
          10,
          10,
          -10,
          10,
          10,
          -10,
          -10,
          -10,
          0,
          0,
          0,
          0
         ],
         "y": [
          -5,
          -5,
          -5,
          5,
          5,
          -5,
          5,
          5,
          5,
          -5,
          5,
          -5
         ],
         "z": [
          5,
          -5,
          5,
          -5,
          5,
          -5,
          -5,
          5,
          -5,
          -5,
          5,
          5
         ]
        },
        {
         "hoverinfo": "text",
         "legendgroup": "5",
         "legendrank": 5,
         "line": {
          "color": "black",
          "width": 1
         },
         "mode": "lines",
         "name": "Graph Edges",
         "showlegend": false,
         "text": "",
         "type": "scatter3d",
         "x": [],
         "y": [],
         "z": []
        }
       ],
       "layout": {
        "autosize": true,
        "height": 500,
        "margin": {
         "b": 40,
         "l": 40,
         "r": 40,
         "t": 40
        },
        "paper_bgcolor": "rgba(0,0,0,0)",
        "plot_bgcolor": "rgba(0,0,0,0)",
        "scene": {
         "aspectmode": "data",
         "camera": {
          "center": {
           "x": 0,
           "y": 0,
           "z": 0
          },
          "eye": {
           "x": -1.25,
           "y": -1.25,
           "z": 1.25
          },
          "projection": {
           "type": "perspective"
          },
          "up": {
           "x": 0,
           "y": 0,
           "z": 1
          }
         },
         "xaxis": {
          "visible": false
         },
         "yaxis": {
          "visible": false
         },
         "zaxis": {
          "visible": false
         }
        },
        "showlegend": true,
        "template": {
         "data": {
          "bar": [
           {
            "error_x": {
             "color": "#2a3f5f"
            },
            "error_y": {
             "color": "#2a3f5f"
            },
            "marker": {
             "line": {
              "color": "#E5ECF6",
              "width": 0.5
             },
             "pattern": {
              "fillmode": "overlay",
              "size": 10,
              "solidity": 0.2
             }
            },
            "type": "bar"
           }
          ],
          "barpolar": [
           {
            "marker": {
             "line": {
              "color": "#E5ECF6",
              "width": 0.5
             },
             "pattern": {
              "fillmode": "overlay",
              "size": 10,
              "solidity": 0.2
             }
            },
            "type": "barpolar"
           }
          ],
          "carpet": [
           {
            "aaxis": {
             "endlinecolor": "#2a3f5f",
             "gridcolor": "white",
             "linecolor": "white",
             "minorgridcolor": "white",
             "startlinecolor": "#2a3f5f"
            },
            "baxis": {
             "endlinecolor": "#2a3f5f",
             "gridcolor": "white",
             "linecolor": "white",
             "minorgridcolor": "white",
             "startlinecolor": "#2a3f5f"
            },
            "type": "carpet"
           }
          ],
          "choropleth": [
           {
            "colorbar": {
             "outlinewidth": 0,
             "ticks": ""
            },
            "type": "choropleth"
           }
          ],
          "contour": [
           {
            "colorbar": {
             "outlinewidth": 0,
             "ticks": ""
            },
            "colorscale": [
             [
              0,
              "#0d0887"
             ],
             [
              0.1111111111111111,
              "#46039f"
             ],
             [
              0.2222222222222222,
              "#7201a8"
             ],
             [
              0.3333333333333333,
              "#9c179e"
             ],
             [
              0.4444444444444444,
              "#bd3786"
             ],
             [
              0.5555555555555556,
              "#d8576b"
             ],
             [
              0.6666666666666666,
              "#ed7953"
             ],
             [
              0.7777777777777778,
              "#fb9f3a"
             ],
             [
              0.8888888888888888,
              "#fdca26"
             ],
             [
              1,
              "#f0f921"
             ]
            ],
            "type": "contour"
           }
          ],
          "contourcarpet": [
           {
            "colorbar": {
             "outlinewidth": 0,
             "ticks": ""
            },
            "type": "contourcarpet"
           }
          ],
          "heatmap": [
           {
            "colorbar": {
             "outlinewidth": 0,
             "ticks": ""
            },
            "colorscale": [
             [
              0,
              "#0d0887"
             ],
             [
              0.1111111111111111,
              "#46039f"
             ],
             [
              0.2222222222222222,
              "#7201a8"
             ],
             [
              0.3333333333333333,
              "#9c179e"
             ],
             [
              0.4444444444444444,
              "#bd3786"
             ],
             [
              0.5555555555555556,
              "#d8576b"
             ],
             [
              0.6666666666666666,
              "#ed7953"
             ],
             [
              0.7777777777777778,
              "#fb9f3a"
             ],
             [
              0.8888888888888888,
              "#fdca26"
             ],
             [
              1,
              "#f0f921"
             ]
            ],
            "type": "heatmap"
           }
          ],
          "heatmapgl": [
           {
            "colorbar": {
             "outlinewidth": 0,
             "ticks": ""
            },
            "colorscale": [
             [
              0,
              "#0d0887"
             ],
             [
              0.1111111111111111,
              "#46039f"
             ],
             [
              0.2222222222222222,
              "#7201a8"
             ],
             [
              0.3333333333333333,
              "#9c179e"
             ],
             [
              0.4444444444444444,
              "#bd3786"
             ],
             [
              0.5555555555555556,
              "#d8576b"
             ],
             [
              0.6666666666666666,
              "#ed7953"
             ],
             [
              0.7777777777777778,
              "#fb9f3a"
             ],
             [
              0.8888888888888888,
              "#fdca26"
             ],
             [
              1,
              "#f0f921"
             ]
            ],
            "type": "heatmapgl"
           }
          ],
          "histogram": [
           {
            "marker": {
             "pattern": {
              "fillmode": "overlay",
              "size": 10,
              "solidity": 0.2
             }
            },
            "type": "histogram"
           }
          ],
          "histogram2d": [
           {
            "colorbar": {
             "outlinewidth": 0,
             "ticks": ""
            },
            "colorscale": [
             [
              0,
              "#0d0887"
             ],
             [
              0.1111111111111111,
              "#46039f"
             ],
             [
              0.2222222222222222,
              "#7201a8"
             ],
             [
              0.3333333333333333,
              "#9c179e"
             ],
             [
              0.4444444444444444,
              "#bd3786"
             ],
             [
              0.5555555555555556,
              "#d8576b"
             ],
             [
              0.6666666666666666,
              "#ed7953"
             ],
             [
              0.7777777777777778,
              "#fb9f3a"
             ],
             [
              0.8888888888888888,
              "#fdca26"
             ],
             [
              1,
              "#f0f921"
             ]
            ],
            "type": "histogram2d"
           }
          ],
          "histogram2dcontour": [
           {
            "colorbar": {
             "outlinewidth": 0,
             "ticks": ""
            },
            "colorscale": [
             [
              0,
              "#0d0887"
             ],
             [
              0.1111111111111111,
              "#46039f"
             ],
             [
              0.2222222222222222,
              "#7201a8"
             ],
             [
              0.3333333333333333,
              "#9c179e"
             ],
             [
              0.4444444444444444,
              "#bd3786"
             ],
             [
              0.5555555555555556,
              "#d8576b"
             ],
             [
              0.6666666666666666,
              "#ed7953"
             ],
             [
              0.7777777777777778,
              "#fb9f3a"
             ],
             [
              0.8888888888888888,
              "#fdca26"
             ],
             [
              1,
              "#f0f921"
             ]
            ],
            "type": "histogram2dcontour"
           }
          ],
          "mesh3d": [
           {
            "colorbar": {
             "outlinewidth": 0,
             "ticks": ""
            },
            "type": "mesh3d"
           }
          ],
          "parcoords": [
           {
            "line": {
             "colorbar": {
              "outlinewidth": 0,
              "ticks": ""
             }
            },
            "type": "parcoords"
           }
          ],
          "pie": [
           {
            "automargin": true,
            "type": "pie"
           }
          ],
          "scatter": [
           {
            "fillpattern": {
             "fillmode": "overlay",
             "size": 10,
             "solidity": 0.2
            },
            "type": "scatter"
           }
          ],
          "scatter3d": [
           {
            "line": {
             "colorbar": {
              "outlinewidth": 0,
              "ticks": ""
             }
            },
            "marker": {
             "colorbar": {
              "outlinewidth": 0,
              "ticks": ""
             }
            },
            "type": "scatter3d"
           }
          ],
          "scattercarpet": [
           {
            "marker": {
             "colorbar": {
              "outlinewidth": 0,
              "ticks": ""
             }
            },
            "type": "scattercarpet"
           }
          ],
          "scattergeo": [
           {
            "marker": {
             "colorbar": {
              "outlinewidth": 0,
              "ticks": ""
             }
            },
            "type": "scattergeo"
           }
          ],
          "scattergl": [
           {
            "marker": {
             "colorbar": {
              "outlinewidth": 0,
              "ticks": ""
             }
            },
            "type": "scattergl"
           }
          ],
          "scattermapbox": [
           {
            "marker": {
             "colorbar": {
              "outlinewidth": 0,
              "ticks": ""
             }
            },
            "type": "scattermapbox"
           }
          ],
          "scatterpolar": [
           {
            "marker": {
             "colorbar": {
              "outlinewidth": 0,
              "ticks": ""
             }
            },
            "type": "scatterpolar"
           }
          ],
          "scatterpolargl": [
           {
            "marker": {
             "colorbar": {
              "outlinewidth": 0,
              "ticks": ""
             }
            },
            "type": "scatterpolargl"
           }
          ],
          "scatterternary": [
           {
            "marker": {
             "colorbar": {
              "outlinewidth": 0,
              "ticks": ""
             }
            },
            "type": "scatterternary"
           }
          ],
          "surface": [
           {
            "colorbar": {
             "outlinewidth": 0,
             "ticks": ""
            },
            "colorscale": [
             [
              0,
              "#0d0887"
             ],
             [
              0.1111111111111111,
              "#46039f"
             ],
             [
              0.2222222222222222,
              "#7201a8"
             ],
             [
              0.3333333333333333,
              "#9c179e"
             ],
             [
              0.4444444444444444,
              "#bd3786"
             ],
             [
              0.5555555555555556,
              "#d8576b"
             ],
             [
              0.6666666666666666,
              "#ed7953"
             ],
             [
              0.7777777777777778,
              "#fb9f3a"
             ],
             [
              0.8888888888888888,
              "#fdca26"
             ],
             [
              1,
              "#f0f921"
             ]
            ],
            "type": "surface"
           }
          ],
          "table": [
           {
            "cells": {
             "fill": {
              "color": "#EBF0F8"
             },
             "line": {
              "color": "white"
             }
            },
            "header": {
             "fill": {
              "color": "#C8D4E3"
             },
             "line": {
              "color": "white"
             }
            },
            "type": "table"
           }
          ]
         },
         "layout": {
          "annotationdefaults": {
           "arrowcolor": "#2a3f5f",
           "arrowhead": 0,
           "arrowwidth": 1
          },
          "autotypenumbers": "strict",
          "coloraxis": {
           "colorbar": {
            "outlinewidth": 0,
            "ticks": ""
           }
          },
          "colorscale": {
           "diverging": [
            [
             0,
             "#8e0152"
            ],
            [
             0.1,
             "#c51b7d"
            ],
            [
             0.2,
             "#de77ae"
            ],
            [
             0.3,
             "#f1b6da"
            ],
            [
             0.4,
             "#fde0ef"
            ],
            [
             0.5,
             "#f7f7f7"
            ],
            [
             0.6,
             "#e6f5d0"
            ],
            [
             0.7,
             "#b8e186"
            ],
            [
             0.8,
             "#7fbc41"
            ],
            [
             0.9,
             "#4d9221"
            ],
            [
             1,
             "#276419"
            ]
           ],
           "sequential": [
            [
             0,
             "#0d0887"
            ],
            [
             0.1111111111111111,
             "#46039f"
            ],
            [
             0.2222222222222222,
             "#7201a8"
            ],
            [
             0.3333333333333333,
             "#9c179e"
            ],
            [
             0.4444444444444444,
             "#bd3786"
            ],
            [
             0.5555555555555556,
             "#d8576b"
            ],
            [
             0.6666666666666666,
             "#ed7953"
            ],
            [
             0.7777777777777778,
             "#fb9f3a"
            ],
            [
             0.8888888888888888,
             "#fdca26"
            ],
            [
             1,
             "#f0f921"
            ]
           ],
           "sequentialminus": [
            [
             0,
             "#0d0887"
            ],
            [
             0.1111111111111111,
             "#46039f"
            ],
            [
             0.2222222222222222,
             "#7201a8"
            ],
            [
             0.3333333333333333,
             "#9c179e"
            ],
            [
             0.4444444444444444,
             "#bd3786"
            ],
            [
             0.5555555555555556,
             "#d8576b"
            ],
            [
             0.6666666666666666,
             "#ed7953"
            ],
            [
             0.7777777777777778,
             "#fb9f3a"
            ],
            [
             0.8888888888888888,
             "#fdca26"
            ],
            [
             1,
             "#f0f921"
            ]
           ]
          },
          "colorway": [
           "#636efa",
           "#EF553B",
           "#00cc96",
           "#ab63fa",
           "#FFA15A",
           "#19d3f3",
           "#FF6692",
           "#B6E880",
           "#FF97FF",
           "#FECB52"
          ],
          "font": {
           "color": "#2a3f5f"
          },
          "geo": {
           "bgcolor": "white",
           "lakecolor": "white",
           "landcolor": "#E5ECF6",
           "showlakes": true,
           "showland": true,
           "subunitcolor": "white"
          },
          "hoverlabel": {
           "align": "left"
          },
          "hovermode": "closest",
          "mapbox": {
           "style": "light"
          },
          "paper_bgcolor": "white",
          "plot_bgcolor": "#E5ECF6",
          "polar": {
           "angularaxis": {
            "gridcolor": "white",
            "linecolor": "white",
            "ticks": ""
           },
           "bgcolor": "#E5ECF6",
           "radialaxis": {
            "gridcolor": "white",
            "linecolor": "white",
            "ticks": ""
           }
          },
          "scene": {
           "xaxis": {
            "backgroundcolor": "#E5ECF6",
            "gridcolor": "white",
            "gridwidth": 2,
            "linecolor": "white",
            "showbackground": true,
            "ticks": "",
            "zerolinecolor": "white"
           },
           "yaxis": {
            "backgroundcolor": "#E5ECF6",
            "gridcolor": "white",
            "gridwidth": 2,
            "linecolor": "white",
            "showbackground": true,
            "ticks": "",
            "zerolinecolor": "white"
           },
           "zaxis": {
            "backgroundcolor": "#E5ECF6",
            "gridcolor": "white",
            "gridwidth": 2,
            "linecolor": "white",
            "showbackground": true,
            "ticks": "",
            "zerolinecolor": "white"
           }
          },
          "shapedefaults": {
           "line": {
            "color": "#2a3f5f"
           }
          },
          "ternary": {
           "aaxis": {
            "gridcolor": "white",
            "linecolor": "white",
            "ticks": ""
           },
           "baxis": {
            "gridcolor": "white",
            "linecolor": "white",
            "ticks": ""
           },
           "bgcolor": "#E5ECF6",
           "caxis": {
            "gridcolor": "white",
            "linecolor": "white",
            "ticks": ""
           }
          },
          "title": {
           "x": 0.05
          },
          "xaxis": {
           "automargin": true,
           "gridcolor": "white",
           "linecolor": "white",
           "ticks": "",
           "title": {
            "standoff": 15
           },
           "zerolinecolor": "white",
           "zerolinewidth": 2
          },
          "yaxis": {
           "automargin": true,
           "gridcolor": "white",
           "linecolor": "white",
           "ticks": "",
           "title": {
            "standoff": 15
           },
           "zerolinecolor": "white",
           "zerolinewidth": 2
          }
         }
        },
        "width": 950,
        "xaxis": {
         "showgrid": false,
         "visible": false,
         "zeroline": false
        },
        "yaxis": {
         "showgrid": false,
         "visible": false,
         "zeroline": false
        }
       }
      }
     },
     "metadata": {},
     "output_type": "display_data"
    },
    {
     "ename": "",
     "evalue": "",
     "output_type": "error",
     "traceback": [
      "\u001b[1;31mThe Kernel crashed while executing code in the current cell or a previous cell. \n",
      "\u001b[1;31mPlease review the code in the cell(s) to identify a possible cause of the failure. \n",
      "\u001b[1;31mClick <a href='https://aka.ms/vscodeJupyterKernelCrash'>here</a> for more info. \n",
      "\u001b[1;31mView Jupyter <a href='command:jupyter.viewOutput'>log</a> for further details."
     ]
    }
   ],
   "source": [
    "cypher = \"MATCH (n) WHERE ANY(label IN labels(n) WHERE label STARTS WITH 'Cell') RETURN n\"\n",
    "t_graph = Neo4j.ExportToGraph(n_graph, cypher=cypher)\n",
    "vertices = Graph.Vertices(t_graph)\n",
    "for v in vertices:\n",
    "    d = Topology.Dictionary(v)\n",
    "    print(Dictionary.Keys(d), Dictionary.Values(d))\n",
    "Graph.Show(t_graph, vertexGroupKey=\"category\", vertexGroups=[0,1,3], vertexSize=12, vertexLabelKey=\"label\", edgeLabelKey=\"relationship\", colorScale=\"thermal_r\")\n"
   ]
  }
 ],
 "metadata": {
  "kernelspec": {
   "display_name": "Python 3",
   "language": "python",
   "name": "python3"
  },
  "language_info": {
   "codemirror_mode": {
    "name": "ipython",
    "version": 3
   },
   "file_extension": ".py",
   "mimetype": "text/x-python",
   "name": "python",
   "nbconvert_exporter": "python",
   "pygments_lexer": "ipython3",
   "version": "3.11.9"
  }
 },
 "nbformat": 4,
 "nbformat_minor": 2
}
